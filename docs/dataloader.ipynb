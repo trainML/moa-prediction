{
 "cells": [
  {
   "cell_type": "code",
   "execution_count": 1,
   "metadata": {},
   "outputs": [],
   "source": [
    "import os\n",
    "import numpy as np\n",
    "import pandas as pd\n",
    "import random\n",
    "from sklearn.datasets import make_classification\n",
    "from sklearn.neighbors import NearestNeighbors\n",
    "\n",
    "import matplotlib.pyplot as plt\n",
    "import plotly.express as px\n",
    "import plotly.graph_objects as go\n",
    "from plotly.subplots import make_subplots"
   ]
  },
  {
   "cell_type": "code",
   "execution_count": 2,
   "metadata": {},
   "outputs": [],
   "source": [
    "BASE_PATH = os.environ.get('TRAINML_DATA_PATH') if os.environ.get('TRAINML_DATA_PATH') else './lish-moa'\n",
    "X_train = pd.read_csv(f\"{BASE_PATH}/train_features.csv\")\n",
    "y_train = pd.read_csv(f\"{BASE_PATH}/train_targets_scored.csv\")"
   ]
  },
  {
   "cell_type": "code",
   "execution_count": 3,
   "metadata": {},
   "outputs": [],
   "source": [
    "feature_cols = X_train.columns[2:]\n",
    "target_cols = y_train.columns[1:]\n",
    "n_targets = len(target_cols)"
   ]
  },
  {
   "cell_type": "code",
   "execution_count": 4,
   "metadata": {},
   "outputs": [],
   "source": [
    "def preprocess_df(df):\n",
    "    # Make all feature cols numerical.\n",
    "    if 'cp_type' in df.columns:\n",
    "        df = df.drop('cp_type', axis=1)\n",
    "    df['cp_dose'] = (df['cp_dose'] == 'D2').astype(int)\n",
    "    df['cp_time'] = df['cp_time'].map({24:1, 48: 2, 72: 3})\n",
    "    return df"
   ]
  },
  {
   "cell_type": "code",
   "execution_count": 5,
   "metadata": {},
   "outputs": [],
   "source": [
    "X_train = preprocess_df(X_train)\n",
    "X_train = X_train.drop('sig_id', axis=1)\n",
    "y_train = y_train.drop('sig_id', axis=1)"
   ]
  },
  {
   "cell_type": "code",
   "execution_count": 6,
   "metadata": {},
   "outputs": [
    {
     "data": {
      "text/html": [
       "<div>\n",
       "<style scoped>\n",
       "    .dataframe tbody tr th:only-of-type {\n",
       "        vertical-align: middle;\n",
       "    }\n",
       "\n",
       "    .dataframe tbody tr th {\n",
       "        vertical-align: top;\n",
       "    }\n",
       "\n",
       "    .dataframe thead th {\n",
       "        text-align: right;\n",
       "    }\n",
       "</style>\n",
       "<table border=\"1\" class=\"dataframe\">\n",
       "  <thead>\n",
       "    <tr style=\"text-align: right;\">\n",
       "      <th></th>\n",
       "      <th>cp_time</th>\n",
       "      <th>cp_dose</th>\n",
       "      <th>g-0</th>\n",
       "      <th>g-1</th>\n",
       "      <th>g-2</th>\n",
       "      <th>g-3</th>\n",
       "      <th>g-4</th>\n",
       "      <th>g-5</th>\n",
       "      <th>g-6</th>\n",
       "      <th>g-7</th>\n",
       "      <th>...</th>\n",
       "      <th>c-90</th>\n",
       "      <th>c-91</th>\n",
       "      <th>c-92</th>\n",
       "      <th>c-93</th>\n",
       "      <th>c-94</th>\n",
       "      <th>c-95</th>\n",
       "      <th>c-96</th>\n",
       "      <th>c-97</th>\n",
       "      <th>c-98</th>\n",
       "      <th>c-99</th>\n",
       "    </tr>\n",
       "  </thead>\n",
       "  <tbody>\n",
       "    <tr>\n",
       "      <th>0</th>\n",
       "      <td>1</td>\n",
       "      <td>0</td>\n",
       "      <td>1.0620</td>\n",
       "      <td>0.5577</td>\n",
       "      <td>-0.2479</td>\n",
       "      <td>-0.6208</td>\n",
       "      <td>-0.1944</td>\n",
       "      <td>-1.0120</td>\n",
       "      <td>-1.0220</td>\n",
       "      <td>-0.0326</td>\n",
       "      <td>...</td>\n",
       "      <td>0.2862</td>\n",
       "      <td>0.2584</td>\n",
       "      <td>0.8076</td>\n",
       "      <td>0.5523</td>\n",
       "      <td>-0.1912</td>\n",
       "      <td>0.6584</td>\n",
       "      <td>-0.3981</td>\n",
       "      <td>0.2139</td>\n",
       "      <td>0.3801</td>\n",
       "      <td>0.4176</td>\n",
       "    </tr>\n",
       "    <tr>\n",
       "      <th>1</th>\n",
       "      <td>3</td>\n",
       "      <td>0</td>\n",
       "      <td>0.0743</td>\n",
       "      <td>0.4087</td>\n",
       "      <td>0.2991</td>\n",
       "      <td>0.0604</td>\n",
       "      <td>1.0190</td>\n",
       "      <td>0.5207</td>\n",
       "      <td>0.2341</td>\n",
       "      <td>0.3372</td>\n",
       "      <td>...</td>\n",
       "      <td>-0.4265</td>\n",
       "      <td>0.7543</td>\n",
       "      <td>0.4708</td>\n",
       "      <td>0.0230</td>\n",
       "      <td>0.2957</td>\n",
       "      <td>0.4899</td>\n",
       "      <td>0.1522</td>\n",
       "      <td>0.1241</td>\n",
       "      <td>0.6077</td>\n",
       "      <td>0.7371</td>\n",
       "    </tr>\n",
       "    <tr>\n",
       "      <th>2</th>\n",
       "      <td>2</td>\n",
       "      <td>0</td>\n",
       "      <td>0.6280</td>\n",
       "      <td>0.5817</td>\n",
       "      <td>1.5540</td>\n",
       "      <td>-0.0764</td>\n",
       "      <td>-0.0323</td>\n",
       "      <td>1.2390</td>\n",
       "      <td>0.1715</td>\n",
       "      <td>0.2155</td>\n",
       "      <td>...</td>\n",
       "      <td>-0.7250</td>\n",
       "      <td>-0.6297</td>\n",
       "      <td>0.6103</td>\n",
       "      <td>0.0223</td>\n",
       "      <td>-1.3240</td>\n",
       "      <td>-0.3174</td>\n",
       "      <td>-0.6417</td>\n",
       "      <td>-0.2187</td>\n",
       "      <td>-1.4080</td>\n",
       "      <td>0.6931</td>\n",
       "    </tr>\n",
       "    <tr>\n",
       "      <th>3</th>\n",
       "      <td>2</td>\n",
       "      <td>0</td>\n",
       "      <td>-0.5138</td>\n",
       "      <td>-0.2491</td>\n",
       "      <td>-0.2656</td>\n",
       "      <td>0.5288</td>\n",
       "      <td>4.0620</td>\n",
       "      <td>-0.8095</td>\n",
       "      <td>-1.9590</td>\n",
       "      <td>0.1792</td>\n",
       "      <td>...</td>\n",
       "      <td>-2.0990</td>\n",
       "      <td>-0.6441</td>\n",
       "      <td>-5.6300</td>\n",
       "      <td>-1.3780</td>\n",
       "      <td>-0.8632</td>\n",
       "      <td>-1.2880</td>\n",
       "      <td>-1.6210</td>\n",
       "      <td>-0.8784</td>\n",
       "      <td>-0.3876</td>\n",
       "      <td>-0.8154</td>\n",
       "    </tr>\n",
       "    <tr>\n",
       "      <th>4</th>\n",
       "      <td>3</td>\n",
       "      <td>1</td>\n",
       "      <td>-0.3254</td>\n",
       "      <td>-0.4009</td>\n",
       "      <td>0.9700</td>\n",
       "      <td>0.6919</td>\n",
       "      <td>1.4180</td>\n",
       "      <td>-0.8244</td>\n",
       "      <td>-0.2800</td>\n",
       "      <td>-0.1498</td>\n",
       "      <td>...</td>\n",
       "      <td>0.0042</td>\n",
       "      <td>0.0048</td>\n",
       "      <td>0.6670</td>\n",
       "      <td>1.0690</td>\n",
       "      <td>0.5523</td>\n",
       "      <td>-0.3031</td>\n",
       "      <td>0.1094</td>\n",
       "      <td>0.2885</td>\n",
       "      <td>-0.3786</td>\n",
       "      <td>0.7125</td>\n",
       "    </tr>\n",
       "  </tbody>\n",
       "</table>\n",
       "<p>5 rows × 874 columns</p>\n",
       "</div>"
      ],
      "text/plain": [
       "   cp_time  cp_dose     g-0     g-1     g-2     g-3     g-4     g-5     g-6  \\\n",
       "0        1        0  1.0620  0.5577 -0.2479 -0.6208 -0.1944 -1.0120 -1.0220   \n",
       "1        3        0  0.0743  0.4087  0.2991  0.0604  1.0190  0.5207  0.2341   \n",
       "2        2        0  0.6280  0.5817  1.5540 -0.0764 -0.0323  1.2390  0.1715   \n",
       "3        2        0 -0.5138 -0.2491 -0.2656  0.5288  4.0620 -0.8095 -1.9590   \n",
       "4        3        1 -0.3254 -0.4009  0.9700  0.6919  1.4180 -0.8244 -0.2800   \n",
       "\n",
       "      g-7  ...    c-90    c-91    c-92    c-93    c-94    c-95    c-96  \\\n",
       "0 -0.0326  ...  0.2862  0.2584  0.8076  0.5523 -0.1912  0.6584 -0.3981   \n",
       "1  0.3372  ... -0.4265  0.7543  0.4708  0.0230  0.2957  0.4899  0.1522   \n",
       "2  0.2155  ... -0.7250 -0.6297  0.6103  0.0223 -1.3240 -0.3174 -0.6417   \n",
       "3  0.1792  ... -2.0990 -0.6441 -5.6300 -1.3780 -0.8632 -1.2880 -1.6210   \n",
       "4 -0.1498  ...  0.0042  0.0048  0.6670  1.0690  0.5523 -0.3031  0.1094   \n",
       "\n",
       "     c-97    c-98    c-99  \n",
       "0  0.2139  0.3801  0.4176  \n",
       "1  0.1241  0.6077  0.7371  \n",
       "2 -0.2187 -1.4080  0.6931  \n",
       "3 -0.8784 -0.3876 -0.8154  \n",
       "4  0.2885 -0.3786  0.7125  \n",
       "\n",
       "[5 rows x 874 columns]"
      ]
     },
     "execution_count": 6,
     "metadata": {},
     "output_type": "execute_result"
    }
   ],
   "source": [
    "X_train.head()"
   ]
  },
  {
   "cell_type": "code",
   "execution_count": 7,
   "metadata": {},
   "outputs": [
    {
     "data": {
      "text/html": [
       "<div>\n",
       "<style scoped>\n",
       "    .dataframe tbody tr th:only-of-type {\n",
       "        vertical-align: middle;\n",
       "    }\n",
       "\n",
       "    .dataframe tbody tr th {\n",
       "        vertical-align: top;\n",
       "    }\n",
       "\n",
       "    .dataframe thead th {\n",
       "        text-align: right;\n",
       "    }\n",
       "</style>\n",
       "<table border=\"1\" class=\"dataframe\">\n",
       "  <thead>\n",
       "    <tr style=\"text-align: right;\">\n",
       "      <th></th>\n",
       "      <th>5-alpha_reductase_inhibitor</th>\n",
       "      <th>11-beta-hsd1_inhibitor</th>\n",
       "      <th>acat_inhibitor</th>\n",
       "      <th>acetylcholine_receptor_agonist</th>\n",
       "      <th>acetylcholine_receptor_antagonist</th>\n",
       "      <th>acetylcholinesterase_inhibitor</th>\n",
       "      <th>adenosine_receptor_agonist</th>\n",
       "      <th>adenosine_receptor_antagonist</th>\n",
       "      <th>adenylyl_cyclase_activator</th>\n",
       "      <th>adrenergic_receptor_agonist</th>\n",
       "      <th>...</th>\n",
       "      <th>tropomyosin_receptor_kinase_inhibitor</th>\n",
       "      <th>trpv_agonist</th>\n",
       "      <th>trpv_antagonist</th>\n",
       "      <th>tubulin_inhibitor</th>\n",
       "      <th>tyrosine_kinase_inhibitor</th>\n",
       "      <th>ubiquitin_specific_protease_inhibitor</th>\n",
       "      <th>vegfr_inhibitor</th>\n",
       "      <th>vitamin_b</th>\n",
       "      <th>vitamin_d_receptor_agonist</th>\n",
       "      <th>wnt_inhibitor</th>\n",
       "    </tr>\n",
       "  </thead>\n",
       "  <tbody>\n",
       "    <tr>\n",
       "      <th>0</th>\n",
       "      <td>0</td>\n",
       "      <td>0</td>\n",
       "      <td>0</td>\n",
       "      <td>0</td>\n",
       "      <td>0</td>\n",
       "      <td>0</td>\n",
       "      <td>0</td>\n",
       "      <td>0</td>\n",
       "      <td>0</td>\n",
       "      <td>0</td>\n",
       "      <td>...</td>\n",
       "      <td>0</td>\n",
       "      <td>0</td>\n",
       "      <td>0</td>\n",
       "      <td>0</td>\n",
       "      <td>0</td>\n",
       "      <td>0</td>\n",
       "      <td>0</td>\n",
       "      <td>0</td>\n",
       "      <td>0</td>\n",
       "      <td>0</td>\n",
       "    </tr>\n",
       "    <tr>\n",
       "      <th>1</th>\n",
       "      <td>0</td>\n",
       "      <td>0</td>\n",
       "      <td>0</td>\n",
       "      <td>0</td>\n",
       "      <td>0</td>\n",
       "      <td>0</td>\n",
       "      <td>0</td>\n",
       "      <td>0</td>\n",
       "      <td>0</td>\n",
       "      <td>0</td>\n",
       "      <td>...</td>\n",
       "      <td>0</td>\n",
       "      <td>0</td>\n",
       "      <td>0</td>\n",
       "      <td>0</td>\n",
       "      <td>0</td>\n",
       "      <td>0</td>\n",
       "      <td>0</td>\n",
       "      <td>0</td>\n",
       "      <td>0</td>\n",
       "      <td>0</td>\n",
       "    </tr>\n",
       "    <tr>\n",
       "      <th>2</th>\n",
       "      <td>0</td>\n",
       "      <td>0</td>\n",
       "      <td>0</td>\n",
       "      <td>0</td>\n",
       "      <td>0</td>\n",
       "      <td>0</td>\n",
       "      <td>0</td>\n",
       "      <td>0</td>\n",
       "      <td>0</td>\n",
       "      <td>0</td>\n",
       "      <td>...</td>\n",
       "      <td>0</td>\n",
       "      <td>0</td>\n",
       "      <td>0</td>\n",
       "      <td>0</td>\n",
       "      <td>0</td>\n",
       "      <td>0</td>\n",
       "      <td>0</td>\n",
       "      <td>0</td>\n",
       "      <td>0</td>\n",
       "      <td>0</td>\n",
       "    </tr>\n",
       "    <tr>\n",
       "      <th>3</th>\n",
       "      <td>0</td>\n",
       "      <td>0</td>\n",
       "      <td>0</td>\n",
       "      <td>0</td>\n",
       "      <td>0</td>\n",
       "      <td>0</td>\n",
       "      <td>0</td>\n",
       "      <td>0</td>\n",
       "      <td>0</td>\n",
       "      <td>0</td>\n",
       "      <td>...</td>\n",
       "      <td>0</td>\n",
       "      <td>0</td>\n",
       "      <td>0</td>\n",
       "      <td>0</td>\n",
       "      <td>0</td>\n",
       "      <td>0</td>\n",
       "      <td>0</td>\n",
       "      <td>0</td>\n",
       "      <td>0</td>\n",
       "      <td>0</td>\n",
       "    </tr>\n",
       "    <tr>\n",
       "      <th>4</th>\n",
       "      <td>0</td>\n",
       "      <td>0</td>\n",
       "      <td>0</td>\n",
       "      <td>0</td>\n",
       "      <td>0</td>\n",
       "      <td>0</td>\n",
       "      <td>0</td>\n",
       "      <td>0</td>\n",
       "      <td>0</td>\n",
       "      <td>0</td>\n",
       "      <td>...</td>\n",
       "      <td>0</td>\n",
       "      <td>0</td>\n",
       "      <td>0</td>\n",
       "      <td>0</td>\n",
       "      <td>0</td>\n",
       "      <td>0</td>\n",
       "      <td>0</td>\n",
       "      <td>0</td>\n",
       "      <td>0</td>\n",
       "      <td>0</td>\n",
       "    </tr>\n",
       "  </tbody>\n",
       "</table>\n",
       "<p>5 rows × 206 columns</p>\n",
       "</div>"
      ],
      "text/plain": [
       "   5-alpha_reductase_inhibitor  11-beta-hsd1_inhibitor  acat_inhibitor  \\\n",
       "0                            0                       0               0   \n",
       "1                            0                       0               0   \n",
       "2                            0                       0               0   \n",
       "3                            0                       0               0   \n",
       "4                            0                       0               0   \n",
       "\n",
       "   acetylcholine_receptor_agonist  acetylcholine_receptor_antagonist  \\\n",
       "0                               0                                  0   \n",
       "1                               0                                  0   \n",
       "2                               0                                  0   \n",
       "3                               0                                  0   \n",
       "4                               0                                  0   \n",
       "\n",
       "   acetylcholinesterase_inhibitor  adenosine_receptor_agonist  \\\n",
       "0                               0                           0   \n",
       "1                               0                           0   \n",
       "2                               0                           0   \n",
       "3                               0                           0   \n",
       "4                               0                           0   \n",
       "\n",
       "   adenosine_receptor_antagonist  adenylyl_cyclase_activator  \\\n",
       "0                              0                           0   \n",
       "1                              0                           0   \n",
       "2                              0                           0   \n",
       "3                              0                           0   \n",
       "4                              0                           0   \n",
       "\n",
       "   adrenergic_receptor_agonist  ...  tropomyosin_receptor_kinase_inhibitor  \\\n",
       "0                            0  ...                                      0   \n",
       "1                            0  ...                                      0   \n",
       "2                            0  ...                                      0   \n",
       "3                            0  ...                                      0   \n",
       "4                            0  ...                                      0   \n",
       "\n",
       "   trpv_agonist  trpv_antagonist  tubulin_inhibitor  \\\n",
       "0             0                0                  0   \n",
       "1             0                0                  0   \n",
       "2             0                0                  0   \n",
       "3             0                0                  0   \n",
       "4             0                0                  0   \n",
       "\n",
       "   tyrosine_kinase_inhibitor  ubiquitin_specific_protease_inhibitor  \\\n",
       "0                          0                                      0   \n",
       "1                          0                                      0   \n",
       "2                          0                                      0   \n",
       "3                          0                                      0   \n",
       "4                          0                                      0   \n",
       "\n",
       "   vegfr_inhibitor  vitamin_b  vitamin_d_receptor_agonist  wnt_inhibitor  \n",
       "0                0          0                           0              0  \n",
       "1                0          0                           0              0  \n",
       "2                0          0                           0              0  \n",
       "3                0          0                           0              0  \n",
       "4                0          0                           0              0  \n",
       "\n",
       "[5 rows x 206 columns]"
      ]
     },
     "execution_count": 7,
     "metadata": {},
     "output_type": "execute_result"
    }
   ],
   "source": [
    "y_train.head()"
   ]
  },
  {
   "cell_type": "markdown",
   "metadata": {},
   "source": [
    "### Using MLSMOTE algorithm written in [this notebook](https://www.kaggle.com/c/lish-moa/discussion/187419)."
   ]
  },
  {
   "cell_type": "code",
   "execution_count": 8,
   "metadata": {},
   "outputs": [],
   "source": [
    "def get_tail_label(df: pd.DataFrame, ql=[0.05, 1.]) -> list:\n",
    "    \"\"\"\n",
    "    Find the underrepresented targets.\n",
    "    Underrepresented targets are those which are observed less than the median occurance.\n",
    "    Targets beyond a quantile limit are filtered.\n",
    "    \"\"\"\n",
    "    irlbl = df.sum(axis=0)\n",
    "    irlbl = irlbl[(irlbl > irlbl.quantile(ql[0])) & ((irlbl < irlbl.quantile(ql[1])))]  # Filtering\n",
    "    irlbl = irlbl.max() / irlbl\n",
    "    threshold_irlbl = irlbl.median()\n",
    "    tail_label = irlbl[irlbl > threshold_irlbl].index.tolist()\n",
    "    return tail_label\n",
    "\n",
    "def get_minority_samples(X: pd.DataFrame, y: pd.DataFrame, ql=[0.05, 1.]):\n",
    "    \"\"\"\n",
    "    return\n",
    "    X_sub: pandas.DataFrame, the feature vector minority dataframe\n",
    "    y_sub: pandas.DataFrame, the target vector minority dataframe\n",
    "    \"\"\"\n",
    "    tail_labels = get_tail_label(y, ql=ql)\n",
    "    index = y[y[tail_labels].apply(lambda x: (x == 1).any(), axis=1)].index.tolist()\n",
    "    \n",
    "    X_sub = X[X.index.isin(index)].reset_index(drop = True)\n",
    "    y_sub = y[y.index.isin(index)].reset_index(drop = True)\n",
    "    return X_sub, y_sub\n",
    "\n",
    "def nearest_neighbour(X: pd.DataFrame, neigh) -> list:\n",
    "    \"\"\"\n",
    "    Give index of 10 nearest neighbor of all the instance\n",
    "    \n",
    "    args\n",
    "    X: np.array, array whose nearest neighbor has to find\n",
    "    \n",
    "    return\n",
    "    indices: list of list, index of 5 NN of each element in X\n",
    "    \"\"\"\n",
    "    nbs = NearestNeighbors(n_neighbors=neigh, metric='euclidean', algorithm='kd_tree').fit(X)\n",
    "    euclidean, indices = nbs.kneighbors(X)\n",
    "    return indices\n",
    "\n",
    "def MLSMOTE(X, y, n_sample, neigh=5):\n",
    "    \"\"\"\n",
    "    Give the augmented data using MLSMOTE algorithm\n",
    "    \n",
    "    args\n",
    "    X: pandas.DataFrame, input vector DataFrame\n",
    "    y: pandas.DataFrame, feature vector dataframe\n",
    "    n_sample: int, number of newly generated sample\n",
    "    \n",
    "    return\n",
    "    new_X: pandas.DataFrame, augmented feature vector data\n",
    "    target: pandas.DataFrame, augmented target vector data\n",
    "    \"\"\"\n",
    "    indices2 = nearest_neighbour(X, neigh=5)\n",
    "    n = len(indices2)\n",
    "    new_X = np.zeros((n_sample, X.shape[1]))\n",
    "    target = np.zeros((n_sample, y.shape[1]))\n",
    "    for i in range(n_sample):\n",
    "        reference = random.randint(0, n-1)\n",
    "        neighbor = random.choice(indices2[reference, 1:])\n",
    "        all_point = indices2[reference]\n",
    "        nn_df = y[y.index.isin(all_point)]\n",
    "        ser = nn_df.sum(axis = 0, skipna = True)\n",
    "        target[i] = np.array([1 if val > 0 else 0 for val in ser])\n",
    "        ratio = random.random()\n",
    "        gap = X.loc[reference,:] - X.loc[neighbor,:]\n",
    "        new_X[i] = np.array(X.loc[reference,:] + ratio * gap)\n",
    "    new_X = pd.DataFrame(new_X, columns=X.columns)\n",
    "    target = pd.DataFrame(target, columns=y.columns)\n",
    "    return new_X, target\n",
    "\n",
    "\n",
    "# TODO: Use imbalanced-learn and adapt it to MLSMOTE?\n",
    "# from imblearn.over_sampling import SMOTENC\n",
    "# smote_nc = SMOTENC(categorical_features=[0, 2], random_state=0)\n",
    "# X_resampled, y_resampled = smote_nc.fit_resample(X, y)"
   ]
  },
  {
   "cell_type": "code",
   "execution_count": 9,
   "metadata": {},
   "outputs": [],
   "source": [
    "n_samples = 1000\n",
    "n_neighbors = 5"
   ]
  },
  {
   "cell_type": "code",
   "execution_count": 10,
   "metadata": {},
   "outputs": [],
   "source": [
    "# Find samples with \"tail\"/\"minority\" labels\n",
    "X_sub, y_sub = get_minority_samples(X_train, y_train)\n",
    "# Augment dataframe\n",
    "X_res, y_res = MLSMOTE(X_sub, y_sub, n_samples, n_neighbors)"
   ]
  },
  {
   "cell_type": "code",
   "execution_count": 11,
   "metadata": {},
   "outputs": [
    {
     "data": {
      "text/plain": [
       "(1000, 874)"
      ]
     },
     "execution_count": 11,
     "metadata": {},
     "output_type": "execute_result"
    }
   ],
   "source": [
    "X_res.shape"
   ]
  },
  {
   "cell_type": "code",
   "execution_count": 12,
   "metadata": {},
   "outputs": [
    {
     "data": {
      "text/html": [
       "<div>\n",
       "<style scoped>\n",
       "    .dataframe tbody tr th:only-of-type {\n",
       "        vertical-align: middle;\n",
       "    }\n",
       "\n",
       "    .dataframe tbody tr th {\n",
       "        vertical-align: top;\n",
       "    }\n",
       "\n",
       "    .dataframe thead th {\n",
       "        text-align: right;\n",
       "    }\n",
       "</style>\n",
       "<table border=\"1\" class=\"dataframe\">\n",
       "  <thead>\n",
       "    <tr style=\"text-align: right;\">\n",
       "      <th></th>\n",
       "      <th>5-alpha_reductase_inhibitor</th>\n",
       "      <th>11-beta-hsd1_inhibitor</th>\n",
       "      <th>acat_inhibitor</th>\n",
       "      <th>acetylcholine_receptor_agonist</th>\n",
       "      <th>acetylcholine_receptor_antagonist</th>\n",
       "      <th>acetylcholinesterase_inhibitor</th>\n",
       "      <th>adenosine_receptor_agonist</th>\n",
       "      <th>adenosine_receptor_antagonist</th>\n",
       "      <th>adenylyl_cyclase_activator</th>\n",
       "      <th>adrenergic_receptor_agonist</th>\n",
       "      <th>...</th>\n",
       "      <th>tropomyosin_receptor_kinase_inhibitor</th>\n",
       "      <th>trpv_agonist</th>\n",
       "      <th>trpv_antagonist</th>\n",
       "      <th>tubulin_inhibitor</th>\n",
       "      <th>tyrosine_kinase_inhibitor</th>\n",
       "      <th>ubiquitin_specific_protease_inhibitor</th>\n",
       "      <th>vegfr_inhibitor</th>\n",
       "      <th>vitamin_b</th>\n",
       "      <th>vitamin_d_receptor_agonist</th>\n",
       "      <th>wnt_inhibitor</th>\n",
       "    </tr>\n",
       "  </thead>\n",
       "  <tbody>\n",
       "    <tr>\n",
       "      <td>0</td>\n",
       "      <td>0.0</td>\n",
       "      <td>0.0</td>\n",
       "      <td>0.0</td>\n",
       "      <td>0.0</td>\n",
       "      <td>0.0</td>\n",
       "      <td>0.0</td>\n",
       "      <td>0.0</td>\n",
       "      <td>0.0</td>\n",
       "      <td>0.0</td>\n",
       "      <td>0.0</td>\n",
       "      <td>...</td>\n",
       "      <td>0.0</td>\n",
       "      <td>0.0</td>\n",
       "      <td>0.0</td>\n",
       "      <td>0.0</td>\n",
       "      <td>0.0</td>\n",
       "      <td>0.0</td>\n",
       "      <td>0.0</td>\n",
       "      <td>0.0</td>\n",
       "      <td>0.0</td>\n",
       "      <td>0.0</td>\n",
       "    </tr>\n",
       "    <tr>\n",
       "      <td>1</td>\n",
       "      <td>0.0</td>\n",
       "      <td>0.0</td>\n",
       "      <td>0.0</td>\n",
       "      <td>0.0</td>\n",
       "      <td>0.0</td>\n",
       "      <td>0.0</td>\n",
       "      <td>0.0</td>\n",
       "      <td>0.0</td>\n",
       "      <td>0.0</td>\n",
       "      <td>0.0</td>\n",
       "      <td>...</td>\n",
       "      <td>0.0</td>\n",
       "      <td>0.0</td>\n",
       "      <td>0.0</td>\n",
       "      <td>0.0</td>\n",
       "      <td>0.0</td>\n",
       "      <td>0.0</td>\n",
       "      <td>0.0</td>\n",
       "      <td>0.0</td>\n",
       "      <td>0.0</td>\n",
       "      <td>0.0</td>\n",
       "    </tr>\n",
       "    <tr>\n",
       "      <td>2</td>\n",
       "      <td>0.0</td>\n",
       "      <td>0.0</td>\n",
       "      <td>0.0</td>\n",
       "      <td>0.0</td>\n",
       "      <td>0.0</td>\n",
       "      <td>0.0</td>\n",
       "      <td>0.0</td>\n",
       "      <td>0.0</td>\n",
       "      <td>0.0</td>\n",
       "      <td>0.0</td>\n",
       "      <td>...</td>\n",
       "      <td>0.0</td>\n",
       "      <td>0.0</td>\n",
       "      <td>0.0</td>\n",
       "      <td>0.0</td>\n",
       "      <td>0.0</td>\n",
       "      <td>0.0</td>\n",
       "      <td>0.0</td>\n",
       "      <td>0.0</td>\n",
       "      <td>0.0</td>\n",
       "      <td>0.0</td>\n",
       "    </tr>\n",
       "    <tr>\n",
       "      <td>3</td>\n",
       "      <td>0.0</td>\n",
       "      <td>1.0</td>\n",
       "      <td>0.0</td>\n",
       "      <td>0.0</td>\n",
       "      <td>0.0</td>\n",
       "      <td>1.0</td>\n",
       "      <td>0.0</td>\n",
       "      <td>0.0</td>\n",
       "      <td>0.0</td>\n",
       "      <td>0.0</td>\n",
       "      <td>...</td>\n",
       "      <td>0.0</td>\n",
       "      <td>0.0</td>\n",
       "      <td>0.0</td>\n",
       "      <td>0.0</td>\n",
       "      <td>0.0</td>\n",
       "      <td>0.0</td>\n",
       "      <td>0.0</td>\n",
       "      <td>0.0</td>\n",
       "      <td>0.0</td>\n",
       "      <td>0.0</td>\n",
       "    </tr>\n",
       "    <tr>\n",
       "      <td>4</td>\n",
       "      <td>0.0</td>\n",
       "      <td>0.0</td>\n",
       "      <td>0.0</td>\n",
       "      <td>0.0</td>\n",
       "      <td>0.0</td>\n",
       "      <td>0.0</td>\n",
       "      <td>0.0</td>\n",
       "      <td>0.0</td>\n",
       "      <td>0.0</td>\n",
       "      <td>0.0</td>\n",
       "      <td>...</td>\n",
       "      <td>0.0</td>\n",
       "      <td>1.0</td>\n",
       "      <td>0.0</td>\n",
       "      <td>0.0</td>\n",
       "      <td>0.0</td>\n",
       "      <td>0.0</td>\n",
       "      <td>0.0</td>\n",
       "      <td>0.0</td>\n",
       "      <td>0.0</td>\n",
       "      <td>0.0</td>\n",
       "    </tr>\n",
       "  </tbody>\n",
       "</table>\n",
       "<p>5 rows × 206 columns</p>\n",
       "</div>"
      ],
      "text/plain": [
       "   5-alpha_reductase_inhibitor  11-beta-hsd1_inhibitor  acat_inhibitor  \\\n",
       "0                          0.0                     0.0             0.0   \n",
       "1                          0.0                     0.0             0.0   \n",
       "2                          0.0                     0.0             0.0   \n",
       "3                          0.0                     1.0             0.0   \n",
       "4                          0.0                     0.0             0.0   \n",
       "\n",
       "   acetylcholine_receptor_agonist  acetylcholine_receptor_antagonist  \\\n",
       "0                             0.0                                0.0   \n",
       "1                             0.0                                0.0   \n",
       "2                             0.0                                0.0   \n",
       "3                             0.0                                0.0   \n",
       "4                             0.0                                0.0   \n",
       "\n",
       "   acetylcholinesterase_inhibitor  adenosine_receptor_agonist  \\\n",
       "0                             0.0                         0.0   \n",
       "1                             0.0                         0.0   \n",
       "2                             0.0                         0.0   \n",
       "3                             1.0                         0.0   \n",
       "4                             0.0                         0.0   \n",
       "\n",
       "   adenosine_receptor_antagonist  adenylyl_cyclase_activator  \\\n",
       "0                            0.0                         0.0   \n",
       "1                            0.0                         0.0   \n",
       "2                            0.0                         0.0   \n",
       "3                            0.0                         0.0   \n",
       "4                            0.0                         0.0   \n",
       "\n",
       "   adrenergic_receptor_agonist  ...  tropomyosin_receptor_kinase_inhibitor  \\\n",
       "0                          0.0  ...                                    0.0   \n",
       "1                          0.0  ...                                    0.0   \n",
       "2                          0.0  ...                                    0.0   \n",
       "3                          0.0  ...                                    0.0   \n",
       "4                          0.0  ...                                    0.0   \n",
       "\n",
       "   trpv_agonist  trpv_antagonist  tubulin_inhibitor  \\\n",
       "0           0.0              0.0                0.0   \n",
       "1           0.0              0.0                0.0   \n",
       "2           0.0              0.0                0.0   \n",
       "3           0.0              0.0                0.0   \n",
       "4           1.0              0.0                0.0   \n",
       "\n",
       "   tyrosine_kinase_inhibitor  ubiquitin_specific_protease_inhibitor  \\\n",
       "0                        0.0                                    0.0   \n",
       "1                        0.0                                    0.0   \n",
       "2                        0.0                                    0.0   \n",
       "3                        0.0                                    0.0   \n",
       "4                        0.0                                    0.0   \n",
       "\n",
       "   vegfr_inhibitor  vitamin_b  vitamin_d_receptor_agonist  wnt_inhibitor  \n",
       "0              0.0        0.0                         0.0            0.0  \n",
       "1              0.0        0.0                         0.0            0.0  \n",
       "2              0.0        0.0                         0.0            0.0  \n",
       "3              0.0        0.0                         0.0            0.0  \n",
       "4              0.0        0.0                         0.0            0.0  \n",
       "\n",
       "[5 rows x 206 columns]"
      ]
     },
     "execution_count": 12,
     "metadata": {},
     "output_type": "execute_result"
    }
   ],
   "source": [
    "y_res.head()"
   ]
  },
  {
   "cell_type": "code",
   "execution_count": 13,
   "metadata": {},
   "outputs": [
    {
     "data": {
      "text/plain": [
       "5-alpha_reductase_inhibitor              81.0\n",
       "11-beta-hsd1_inhibitor                   40.0\n",
       "acat_inhibitor                           26.0\n",
       "acetylcholine_receptor_agonist            0.0\n",
       "acetylcholine_receptor_antagonist         0.0\n",
       "                                         ... \n",
       "ubiquitin_specific_protease_inhibitor     0.0\n",
       "vegfr_inhibitor                           0.0\n",
       "vitamin_b                                23.0\n",
       "vitamin_d_receptor_agonist               37.0\n",
       "wnt_inhibitor                            25.0\n",
       "Length: 206, dtype: float64"
      ]
     },
     "execution_count": 13,
     "metadata": {},
     "output_type": "execute_result"
    }
   ],
   "source": [
    "y_res.sum()"
   ]
  },
  {
   "cell_type": "code",
   "execution_count": 14,
   "metadata": {},
   "outputs": [
    {
     "data": {
      "text/plain": [
       "5-alpha_reductase_inhibitor               17\n",
       "11-beta-hsd1_inhibitor                    18\n",
       "acat_inhibitor                            24\n",
       "acetylcholine_receptor_agonist           190\n",
       "acetylcholine_receptor_antagonist        301\n",
       "                                        ... \n",
       "ubiquitin_specific_protease_inhibitor      6\n",
       "vegfr_inhibitor                          170\n",
       "vitamin_b                                 26\n",
       "vitamin_d_receptor_agonist                39\n",
       "wnt_inhibitor                             30\n",
       "Length: 206, dtype: int64"
      ]
     },
     "execution_count": 14,
     "metadata": {},
     "output_type": "execute_result"
    }
   ],
   "source": [
    "y_train.sum()"
   ]
  },
  {
   "cell_type": "code",
   "execution_count": 15,
   "metadata": {},
   "outputs": [],
   "source": [
    "X_augmented = pd.concat([X_train, X_res])\n",
    "y_augmented = pd.concat([y_train, y_res])"
   ]
  },
  {
   "cell_type": "code",
   "execution_count": 16,
   "metadata": {},
   "outputs": [],
   "source": [
    "# X_augmented.to_csv(f\"{BASE_PATH}/train_features_augmented.csv\", index=False)\n",
    "# y_augmented.to_csv(f\"{BASE_PATH}/train_targets_augmented.csv\", index=False)"
   ]
  },
  {
   "cell_type": "markdown",
   "metadata": {},
   "source": [
    "### Visualizing data before/after"
   ]
  },
  {
   "cell_type": "code",
   "execution_count": 21,
   "metadata": {},
   "outputs": [
    {
     "data": {
      "application/vnd.plotly.v1+json": {
       "config": {
        "plotlyServerURL": "https://plot.ly"
       },
       "data": [
        {
         "alignmentgroup": "True",
         "hovertemplate": "nonzero_records=%{x}<br>column=%{y}<extra></extra>",
         "legendgroup": "",
         "marker": {
          "color": "#636efa"
         },
         "name": "",
         "offsetgroup": "",
         "orientation": "h",
         "showlegend": false,
         "textposition": "auto",
         "type": "bar",
         "x": [
          1,
          1,
          6,
          6,
          6,
          6,
          6,
          6,
          6,
          6,
          6,
          6,
          6,
          6,
          6,
          6,
          6,
          6,
          7,
          7,
          7,
          7,
          12,
          12,
          12,
          12,
          12,
          12,
          12,
          12,
          12,
          12,
          12,
          13,
          13,
          17,
          18,
          18,
          18,
          18,
          18,
          18,
          18,
          18,
          18,
          18,
          18,
          18,
          18,
          19,
          19,
          19,
          19,
          23,
          23,
          24,
          24,
          24,
          24,
          24,
          25,
          25,
          25,
          25,
          25,
          25,
          25,
          25,
          26,
          26,
          26,
          29,
          30,
          30,
          30,
          30,
          30,
          30,
          31,
          31,
          31,
          31,
          32,
          35,
          36,
          36,
          36,
          36,
          36,
          36,
          36,
          36,
          36,
          36,
          36,
          36,
          37,
          37,
          37,
          37,
          37,
          37,
          38,
          39,
          42,
          42,
          42,
          42,
          43,
          44,
          47,
          48,
          48,
          48,
          48,
          48,
          48,
          48,
          49,
          50,
          51,
          54,
          54,
          54,
          55,
          55,
          56,
          56,
          59,
          60,
          60,
          60,
          61,
          61,
          61,
          62,
          62,
          66,
          67,
          67,
          68,
          71,
          72,
          72,
          72,
          73,
          73,
          73,
          73,
          73,
          74,
          74,
          80,
          80,
          84,
          85,
          89,
          89,
          92,
          93,
          96,
          96,
          96,
          97,
          98,
          102,
          103,
          104,
          106,
          106,
          115,
          115,
          119,
          121,
          127,
          130,
          151,
          158,
          165,
          170,
          190,
          192,
          223,
          236,
          241,
          264,
          266,
          267,
          270,
          273,
          279,
          281,
          283,
          297,
          301,
          316,
          336,
          340,
          360,
          367,
          402,
          404,
          424,
          435,
          726,
          832
         ],
         "xaxis": "x",
         "y": [
          "atp-sensitive_potassium_channel_antagonist",
          "erbb2_inhibitor",
          "diuretic",
          "autotaxin_inhibitor",
          "protein_phosphatase_inhibitor",
          "antiarrhythmic",
          "retinoid_receptor_antagonist",
          "nicotinic_receptor_agonist",
          "atm_kinase_inhibitor",
          "calcineurin_inhibitor",
          "lxr_agonist",
          "elastase_inhibitor",
          "steroid",
          "leukotriene_inhibitor",
          "coagulation_factor_inhibitor",
          "ubiquitin_specific_protease_inhibitor",
          "tropomyosin_receptor_kinase_inhibitor",
          "laxative",
          "norepinephrine_reuptake_inhibitor",
          "bacterial_membrane_integrity_inhibitor",
          "aldehyde_dehydrogenase_inhibitor",
          "tlr_antagonist",
          "adenylyl_cyclase_activator",
          "catechol_o_methyltransferase_inhibitor",
          "lipase_inhibitor",
          "anticonvulsant",
          "antihistamine",
          "nitric_oxide_production_inhibitor",
          "analgesic",
          "ampk_activator",
          "atp_synthase_inhibitor",
          "monoacylglycerol_lipase_inhibitor",
          "ras_gtpase_inhibitor",
          "antifungal",
          "glutamate_inhibitor",
          "5-alpha_reductase_inhibitor",
          "pdk_inhibitor",
          "caspase_activator",
          "gonadotropin_receptor_agonist",
          "transient_receptor_potential_channel_antagonist",
          "free_radical_scavenger",
          "focal_adhesion_kinase_inhibitor",
          "farnesyltransferase_inhibitor",
          "11-beta-hsd1_inhibitor",
          "monopolar_spindle_1_kinase_inhibitor",
          "cck_receptor_antagonist",
          "progesterone_receptor_antagonist",
          "nrf2_activator",
          "antimalarial",
          "atr_kinase_inhibitor",
          "thrombin_inhibitor",
          "syk_inhibitor",
          "protein_tyrosine_kinase_inhibitor",
          "fungal_squalene_epoxidase_inhibitor",
          "antiviral",
          "p-glycoprotein_inhibitor",
          "beta_amyloid_inhibitor",
          "histone_lysine_demethylase_inhibitor",
          "chk_inhibitor",
          "acat_inhibitor",
          "fatty_acid_receptor_agonist",
          "dipeptidyl_peptidase_inhibitor",
          "phospholipase_inhibitor",
          "trpv_agonist",
          "mineralocorticoid_receptor_antagonist",
          "sphingosine_receptor_agonist",
          "smoothened_receptor_antagonist",
          "rna_polymerase_inhibitor",
          "vitamin_b",
          "nitric_oxide_donor",
          "nitric_oxide_synthase_inhibitor",
          "btk_inhibitor",
          "insulin_secretagogue",
          "ppar_receptor_antagonist",
          "tgf-beta_receptor_inhibitor",
          "ikk_inhibitor",
          "tlr_agonist",
          "wnt_inhibitor",
          "bcl_inhibitor",
          "pkc_inhibitor",
          "mdm_inhibitor",
          "imidazoline_receptor_agonist",
          "histone_lysine_methyltransferase_inhibitor",
          "rho_associated_kinase_inhibitor",
          "prostaglandin_inhibitor",
          "carbonic_anhydrase_inhibitor",
          "antiprotozoal",
          "casein_kinase_inhibitor",
          "sigma_receptor_agonist",
          "sigma_receptor_antagonist",
          "angiogenesis_inhibitor",
          "bacterial_antifolate",
          "dihydrofolate_reductase_inhibitor",
          "tnf_inhibitor",
          "faah_inhibitor",
          "corticosteroid_agonist",
          "angiotensin_receptor_antagonist",
          "thymidylate_synthase_inhibitor",
          "orexin_receptor_antagonist",
          "igf-1_inhibitor",
          "ribonucleoside_reductase_inhibitor",
          "neuropeptide_receptor_antagonist",
          "bcr-abl_inhibitor",
          "vitamin_d_receptor_agonist",
          "chloride_channel_blocker",
          "cannabinoid_receptor_agonist",
          "integrin_inhibitor",
          "alk_inhibitor",
          "antibiotic",
          "serotonin_reuptake_inhibitor",
          "aromatase_inhibitor",
          "cholesterol_inhibitor",
          "estrogen_receptor_antagonist",
          "mucolytic_agent",
          "androgen_receptor_agonist",
          "trpv_antagonist",
          "dna_alkylating_agent",
          "protein_kinase_inhibitor",
          "apoptosis_stimulant",
          "fgfr_inhibitor",
          "insulin_sensitizer",
          "adenosine_receptor_agonist",
          "chelating_agent",
          "cholinergic_receptor_antagonist",
          "cannabinoid_receptor_antagonist",
          "potassium_channel_activator",
          "radiopaque_medium",
          "gamma_secretase_inhibitor",
          "histamine_receptor_agonist",
          "gsk_inhibitor",
          "tachykinin_antagonist",
          "bacterial_30s_ribosomal_subunit_inhibitor",
          "lipoxygenase_inhibitor",
          "parp_inhibitor",
          "opioid_receptor_agonist",
          "leukotriene_receptor_antagonist",
          "p38_mapk_inhibitor",
          "akt_inhibitor",
          "benzodiazepine_receptor_agonist",
          "retinoid_receptor_agonist",
          "bromodomain_inhibitor",
          "src_inhibitor",
          "hcv_inhibitor",
          "hiv_inhibitor",
          "mek_inhibitor",
          "immunosuppressant",
          "antioxidant",
          "acetylcholinesterase_inhibitor",
          "anti-inflammatory",
          "tyrosine_kinase_inhibitor",
          "glutamate_receptor_agonist",
          "membrane_integrity_inhibitor",
          "bacterial_50s_ribosomal_subunit_inhibitor",
          "anesthetic_-_local",
          "prostanoid_receptor_antagonist",
          "monoamine_oxidase_inhibitor",
          "bacterial_dna_gyrase_inhibitor",
          "androgen_receptor_antagonist",
          "jak_inhibitor",
          "hsp_inhibitor",
          "opioid_receptor_antagonist",
          "adenosine_receptor_antagonist",
          "aurora_kinase_inhibitor",
          "atpase_inhibitor",
          "potassium_channel_antagonist",
          "cc_chemokine_receptor_antagonist",
          "protein_synthesis_inhibitor",
          "cytochrome_p450_inhibitor",
          "hdac_inhibitor",
          "gaba_receptor_agonist",
          "bacterial_dna_inhibitor",
          "ppar_receptor_agonist",
          "progesterone_receptor_agonist",
          "dopamine_receptor_agonist",
          "topoisomerase_inhibitor",
          "mtor_inhibitor",
          "pi3k_inhibitor",
          "estrogen_receptor_agonist",
          "gaba_receptor_antagonist",
          "vegfr_inhibitor",
          "acetylcholine_receptor_agonist",
          "bacterial_cell_wall_synthesis_inhibitor",
          "raf_inhibitor",
          "serotonin_receptor_agonist",
          "histamine_receptor_antagonist",
          "phosphodiesterase_inhibitor",
          "glucocorticoid_receptor_agonist",
          "sodium_channel_inhibitor",
          "adrenergic_receptor_agonist",
          "kit_inhibitor",
          "flt3_inhibitor",
          "calcium_channel_blocker",
          "hmgcr_inhibitor",
          "pdgfr_inhibitor",
          "acetylcholine_receptor_antagonist",
          "tubulin_inhibitor",
          "egfr_inhibitor",
          "cdk_inhibitor",
          "adrenergic_receptor_antagonist",
          "glutamate_receptor_antagonist",
          "dna_inhibitor",
          "serotonin_receptor_antagonist",
          "dopamine_receptor_antagonist",
          "cyclooxygenase_inhibitor",
          "proteasome_inhibitor",
          "nfkb_inhibitor"
         ],
         "yaxis": "y"
        }
       ],
       "layout": {
        "barmode": "relative",
        "height": 1000,
        "legend": {
         "tracegroupgap": 0
        },
        "template": {
         "data": {
          "bar": [
           {
            "error_x": {
             "color": "#2a3f5f"
            },
            "error_y": {
             "color": "#2a3f5f"
            },
            "marker": {
             "line": {
              "color": "#E5ECF6",
              "width": 0.5
             }
            },
            "type": "bar"
           }
          ],
          "barpolar": [
           {
            "marker": {
             "line": {
              "color": "#E5ECF6",
              "width": 0.5
             }
            },
            "type": "barpolar"
           }
          ],
          "carpet": [
           {
            "aaxis": {
             "endlinecolor": "#2a3f5f",
             "gridcolor": "white",
             "linecolor": "white",
             "minorgridcolor": "white",
             "startlinecolor": "#2a3f5f"
            },
            "baxis": {
             "endlinecolor": "#2a3f5f",
             "gridcolor": "white",
             "linecolor": "white",
             "minorgridcolor": "white",
             "startlinecolor": "#2a3f5f"
            },
            "type": "carpet"
           }
          ],
          "choropleth": [
           {
            "colorbar": {
             "outlinewidth": 0,
             "ticks": ""
            },
            "type": "choropleth"
           }
          ],
          "contour": [
           {
            "colorbar": {
             "outlinewidth": 0,
             "ticks": ""
            },
            "colorscale": [
             [
              0,
              "#0d0887"
             ],
             [
              0.1111111111111111,
              "#46039f"
             ],
             [
              0.2222222222222222,
              "#7201a8"
             ],
             [
              0.3333333333333333,
              "#9c179e"
             ],
             [
              0.4444444444444444,
              "#bd3786"
             ],
             [
              0.5555555555555556,
              "#d8576b"
             ],
             [
              0.6666666666666666,
              "#ed7953"
             ],
             [
              0.7777777777777778,
              "#fb9f3a"
             ],
             [
              0.8888888888888888,
              "#fdca26"
             ],
             [
              1,
              "#f0f921"
             ]
            ],
            "type": "contour"
           }
          ],
          "contourcarpet": [
           {
            "colorbar": {
             "outlinewidth": 0,
             "ticks": ""
            },
            "type": "contourcarpet"
           }
          ],
          "heatmap": [
           {
            "colorbar": {
             "outlinewidth": 0,
             "ticks": ""
            },
            "colorscale": [
             [
              0,
              "#0d0887"
             ],
             [
              0.1111111111111111,
              "#46039f"
             ],
             [
              0.2222222222222222,
              "#7201a8"
             ],
             [
              0.3333333333333333,
              "#9c179e"
             ],
             [
              0.4444444444444444,
              "#bd3786"
             ],
             [
              0.5555555555555556,
              "#d8576b"
             ],
             [
              0.6666666666666666,
              "#ed7953"
             ],
             [
              0.7777777777777778,
              "#fb9f3a"
             ],
             [
              0.8888888888888888,
              "#fdca26"
             ],
             [
              1,
              "#f0f921"
             ]
            ],
            "type": "heatmap"
           }
          ],
          "heatmapgl": [
           {
            "colorbar": {
             "outlinewidth": 0,
             "ticks": ""
            },
            "colorscale": [
             [
              0,
              "#0d0887"
             ],
             [
              0.1111111111111111,
              "#46039f"
             ],
             [
              0.2222222222222222,
              "#7201a8"
             ],
             [
              0.3333333333333333,
              "#9c179e"
             ],
             [
              0.4444444444444444,
              "#bd3786"
             ],
             [
              0.5555555555555556,
              "#d8576b"
             ],
             [
              0.6666666666666666,
              "#ed7953"
             ],
             [
              0.7777777777777778,
              "#fb9f3a"
             ],
             [
              0.8888888888888888,
              "#fdca26"
             ],
             [
              1,
              "#f0f921"
             ]
            ],
            "type": "heatmapgl"
           }
          ],
          "histogram": [
           {
            "marker": {
             "colorbar": {
              "outlinewidth": 0,
              "ticks": ""
             }
            },
            "type": "histogram"
           }
          ],
          "histogram2d": [
           {
            "colorbar": {
             "outlinewidth": 0,
             "ticks": ""
            },
            "colorscale": [
             [
              0,
              "#0d0887"
             ],
             [
              0.1111111111111111,
              "#46039f"
             ],
             [
              0.2222222222222222,
              "#7201a8"
             ],
             [
              0.3333333333333333,
              "#9c179e"
             ],
             [
              0.4444444444444444,
              "#bd3786"
             ],
             [
              0.5555555555555556,
              "#d8576b"
             ],
             [
              0.6666666666666666,
              "#ed7953"
             ],
             [
              0.7777777777777778,
              "#fb9f3a"
             ],
             [
              0.8888888888888888,
              "#fdca26"
             ],
             [
              1,
              "#f0f921"
             ]
            ],
            "type": "histogram2d"
           }
          ],
          "histogram2dcontour": [
           {
            "colorbar": {
             "outlinewidth": 0,
             "ticks": ""
            },
            "colorscale": [
             [
              0,
              "#0d0887"
             ],
             [
              0.1111111111111111,
              "#46039f"
             ],
             [
              0.2222222222222222,
              "#7201a8"
             ],
             [
              0.3333333333333333,
              "#9c179e"
             ],
             [
              0.4444444444444444,
              "#bd3786"
             ],
             [
              0.5555555555555556,
              "#d8576b"
             ],
             [
              0.6666666666666666,
              "#ed7953"
             ],
             [
              0.7777777777777778,
              "#fb9f3a"
             ],
             [
              0.8888888888888888,
              "#fdca26"
             ],
             [
              1,
              "#f0f921"
             ]
            ],
            "type": "histogram2dcontour"
           }
          ],
          "mesh3d": [
           {
            "colorbar": {
             "outlinewidth": 0,
             "ticks": ""
            },
            "type": "mesh3d"
           }
          ],
          "parcoords": [
           {
            "line": {
             "colorbar": {
              "outlinewidth": 0,
              "ticks": ""
             }
            },
            "type": "parcoords"
           }
          ],
          "pie": [
           {
            "automargin": true,
            "type": "pie"
           }
          ],
          "scatter": [
           {
            "marker": {
             "colorbar": {
              "outlinewidth": 0,
              "ticks": ""
             }
            },
            "type": "scatter"
           }
          ],
          "scatter3d": [
           {
            "line": {
             "colorbar": {
              "outlinewidth": 0,
              "ticks": ""
             }
            },
            "marker": {
             "colorbar": {
              "outlinewidth": 0,
              "ticks": ""
             }
            },
            "type": "scatter3d"
           }
          ],
          "scattercarpet": [
           {
            "marker": {
             "colorbar": {
              "outlinewidth": 0,
              "ticks": ""
             }
            },
            "type": "scattercarpet"
           }
          ],
          "scattergeo": [
           {
            "marker": {
             "colorbar": {
              "outlinewidth": 0,
              "ticks": ""
             }
            },
            "type": "scattergeo"
           }
          ],
          "scattergl": [
           {
            "marker": {
             "colorbar": {
              "outlinewidth": 0,
              "ticks": ""
             }
            },
            "type": "scattergl"
           }
          ],
          "scattermapbox": [
           {
            "marker": {
             "colorbar": {
              "outlinewidth": 0,
              "ticks": ""
             }
            },
            "type": "scattermapbox"
           }
          ],
          "scatterpolar": [
           {
            "marker": {
             "colorbar": {
              "outlinewidth": 0,
              "ticks": ""
             }
            },
            "type": "scatterpolar"
           }
          ],
          "scatterpolargl": [
           {
            "marker": {
             "colorbar": {
              "outlinewidth": 0,
              "ticks": ""
             }
            },
            "type": "scatterpolargl"
           }
          ],
          "scatterternary": [
           {
            "marker": {
             "colorbar": {
              "outlinewidth": 0,
              "ticks": ""
             }
            },
            "type": "scatterternary"
           }
          ],
          "surface": [
           {
            "colorbar": {
             "outlinewidth": 0,
             "ticks": ""
            },
            "colorscale": [
             [
              0,
              "#0d0887"
             ],
             [
              0.1111111111111111,
              "#46039f"
             ],
             [
              0.2222222222222222,
              "#7201a8"
             ],
             [
              0.3333333333333333,
              "#9c179e"
             ],
             [
              0.4444444444444444,
              "#bd3786"
             ],
             [
              0.5555555555555556,
              "#d8576b"
             ],
             [
              0.6666666666666666,
              "#ed7953"
             ],
             [
              0.7777777777777778,
              "#fb9f3a"
             ],
             [
              0.8888888888888888,
              "#fdca26"
             ],
             [
              1,
              "#f0f921"
             ]
            ],
            "type": "surface"
           }
          ],
          "table": [
           {
            "cells": {
             "fill": {
              "color": "#EBF0F8"
             },
             "line": {
              "color": "white"
             }
            },
            "header": {
             "fill": {
              "color": "#C8D4E3"
             },
             "line": {
              "color": "white"
             }
            },
            "type": "table"
           }
          ]
         },
         "layout": {
          "annotationdefaults": {
           "arrowcolor": "#2a3f5f",
           "arrowhead": 0,
           "arrowwidth": 1
          },
          "coloraxis": {
           "colorbar": {
            "outlinewidth": 0,
            "ticks": ""
           }
          },
          "colorscale": {
           "diverging": [
            [
             0,
             "#8e0152"
            ],
            [
             0.1,
             "#c51b7d"
            ],
            [
             0.2,
             "#de77ae"
            ],
            [
             0.3,
             "#f1b6da"
            ],
            [
             0.4,
             "#fde0ef"
            ],
            [
             0.5,
             "#f7f7f7"
            ],
            [
             0.6,
             "#e6f5d0"
            ],
            [
             0.7,
             "#b8e186"
            ],
            [
             0.8,
             "#7fbc41"
            ],
            [
             0.9,
             "#4d9221"
            ],
            [
             1,
             "#276419"
            ]
           ],
           "sequential": [
            [
             0,
             "#0d0887"
            ],
            [
             0.1111111111111111,
             "#46039f"
            ],
            [
             0.2222222222222222,
             "#7201a8"
            ],
            [
             0.3333333333333333,
             "#9c179e"
            ],
            [
             0.4444444444444444,
             "#bd3786"
            ],
            [
             0.5555555555555556,
             "#d8576b"
            ],
            [
             0.6666666666666666,
             "#ed7953"
            ],
            [
             0.7777777777777778,
             "#fb9f3a"
            ],
            [
             0.8888888888888888,
             "#fdca26"
            ],
            [
             1,
             "#f0f921"
            ]
           ],
           "sequentialminus": [
            [
             0,
             "#0d0887"
            ],
            [
             0.1111111111111111,
             "#46039f"
            ],
            [
             0.2222222222222222,
             "#7201a8"
            ],
            [
             0.3333333333333333,
             "#9c179e"
            ],
            [
             0.4444444444444444,
             "#bd3786"
            ],
            [
             0.5555555555555556,
             "#d8576b"
            ],
            [
             0.6666666666666666,
             "#ed7953"
            ],
            [
             0.7777777777777778,
             "#fb9f3a"
            ],
            [
             0.8888888888888888,
             "#fdca26"
            ],
            [
             1,
             "#f0f921"
            ]
           ]
          },
          "colorway": [
           "#636efa",
           "#EF553B",
           "#00cc96",
           "#ab63fa",
           "#FFA15A",
           "#19d3f3",
           "#FF6692",
           "#B6E880",
           "#FF97FF",
           "#FECB52"
          ],
          "font": {
           "color": "#2a3f5f"
          },
          "geo": {
           "bgcolor": "white",
           "lakecolor": "white",
           "landcolor": "#E5ECF6",
           "showlakes": true,
           "showland": true,
           "subunitcolor": "white"
          },
          "hoverlabel": {
           "align": "left"
          },
          "hovermode": "closest",
          "mapbox": {
           "style": "light"
          },
          "paper_bgcolor": "white",
          "plot_bgcolor": "#E5ECF6",
          "polar": {
           "angularaxis": {
            "gridcolor": "white",
            "linecolor": "white",
            "ticks": ""
           },
           "bgcolor": "#E5ECF6",
           "radialaxis": {
            "gridcolor": "white",
            "linecolor": "white",
            "ticks": ""
           }
          },
          "scene": {
           "xaxis": {
            "backgroundcolor": "#E5ECF6",
            "gridcolor": "white",
            "gridwidth": 2,
            "linecolor": "white",
            "showbackground": true,
            "ticks": "",
            "zerolinecolor": "white"
           },
           "yaxis": {
            "backgroundcolor": "#E5ECF6",
            "gridcolor": "white",
            "gridwidth": 2,
            "linecolor": "white",
            "showbackground": true,
            "ticks": "",
            "zerolinecolor": "white"
           },
           "zaxis": {
            "backgroundcolor": "#E5ECF6",
            "gridcolor": "white",
            "gridwidth": 2,
            "linecolor": "white",
            "showbackground": true,
            "ticks": "",
            "zerolinecolor": "white"
           }
          },
          "shapedefaults": {
           "line": {
            "color": "#2a3f5f"
           }
          },
          "ternary": {
           "aaxis": {
            "gridcolor": "white",
            "linecolor": "white",
            "ticks": ""
           },
           "baxis": {
            "gridcolor": "white",
            "linecolor": "white",
            "ticks": ""
           },
           "bgcolor": "#E5ECF6",
           "caxis": {
            "gridcolor": "white",
            "linecolor": "white",
            "ticks": ""
           }
          },
          "title": {
           "x": 0.05
          },
          "xaxis": {
           "automargin": true,
           "gridcolor": "white",
           "linecolor": "white",
           "ticks": "",
           "title": {
            "standoff": 15
           },
           "zerolinecolor": "white",
           "zerolinewidth": 2
          },
          "yaxis": {
           "automargin": true,
           "gridcolor": "white",
           "linecolor": "white",
           "ticks": "",
           "title": {
            "standoff": 15
           },
           "zerolinecolor": "white",
           "zerolinewidth": 2
          }
         }
        },
        "title": {
         "text": "Label counts BEFORE"
        },
        "width": 800,
        "xaxis": {
         "anchor": "y",
         "domain": [
          0,
          1
         ],
         "title": {
          "text": "nonzero_records"
         }
        },
        "yaxis": {
         "anchor": "x",
         "domain": [
          0,
          1
         ],
         "title": {
          "text": "column"
         }
        }
       }
      },
      "text/html": [
       "<div>                            <div id=\"650862e0-593a-498d-acf8-b43f01919ee6\" class=\"plotly-graph-div\" style=\"height:1000px; width:800px;\"></div>            <script type=\"text/javascript\">                require([\"plotly\"], function(Plotly) {                    window.PLOTLYENV=window.PLOTLYENV || {};                                    if (document.getElementById(\"650862e0-593a-498d-acf8-b43f01919ee6\")) {                    Plotly.newPlot(                        \"650862e0-593a-498d-acf8-b43f01919ee6\",                        [{\"alignmentgroup\": \"True\", \"hovertemplate\": \"nonzero_records=%{x}<br>column=%{y}<extra></extra>\", \"legendgroup\": \"\", \"marker\": {\"color\": \"#636efa\"}, \"name\": \"\", \"offsetgroup\": \"\", \"orientation\": \"h\", \"showlegend\": false, \"textposition\": \"auto\", \"type\": \"bar\", \"x\": [1, 1, 6, 6, 6, 6, 6, 6, 6, 6, 6, 6, 6, 6, 6, 6, 6, 6, 7, 7, 7, 7, 12, 12, 12, 12, 12, 12, 12, 12, 12, 12, 12, 13, 13, 17, 18, 18, 18, 18, 18, 18, 18, 18, 18, 18, 18, 18, 18, 19, 19, 19, 19, 23, 23, 24, 24, 24, 24, 24, 25, 25, 25, 25, 25, 25, 25, 25, 26, 26, 26, 29, 30, 30, 30, 30, 30, 30, 31, 31, 31, 31, 32, 35, 36, 36, 36, 36, 36, 36, 36, 36, 36, 36, 36, 36, 37, 37, 37, 37, 37, 37, 38, 39, 42, 42, 42, 42, 43, 44, 47, 48, 48, 48, 48, 48, 48, 48, 49, 50, 51, 54, 54, 54, 55, 55, 56, 56, 59, 60, 60, 60, 61, 61, 61, 62, 62, 66, 67, 67, 68, 71, 72, 72, 72, 73, 73, 73, 73, 73, 74, 74, 80, 80, 84, 85, 89, 89, 92, 93, 96, 96, 96, 97, 98, 102, 103, 104, 106, 106, 115, 115, 119, 121, 127, 130, 151, 158, 165, 170, 190, 192, 223, 236, 241, 264, 266, 267, 270, 273, 279, 281, 283, 297, 301, 316, 336, 340, 360, 367, 402, 404, 424, 435, 726, 832], \"xaxis\": \"x\", \"y\": [\"atp-sensitive_potassium_channel_antagonist\", \"erbb2_inhibitor\", \"diuretic\", \"autotaxin_inhibitor\", \"protein_phosphatase_inhibitor\", \"antiarrhythmic\", \"retinoid_receptor_antagonist\", \"nicotinic_receptor_agonist\", \"atm_kinase_inhibitor\", \"calcineurin_inhibitor\", \"lxr_agonist\", \"elastase_inhibitor\", \"steroid\", \"leukotriene_inhibitor\", \"coagulation_factor_inhibitor\", \"ubiquitin_specific_protease_inhibitor\", \"tropomyosin_receptor_kinase_inhibitor\", \"laxative\", \"norepinephrine_reuptake_inhibitor\", \"bacterial_membrane_integrity_inhibitor\", \"aldehyde_dehydrogenase_inhibitor\", \"tlr_antagonist\", \"adenylyl_cyclase_activator\", \"catechol_o_methyltransferase_inhibitor\", \"lipase_inhibitor\", \"anticonvulsant\", \"antihistamine\", \"nitric_oxide_production_inhibitor\", \"analgesic\", \"ampk_activator\", \"atp_synthase_inhibitor\", \"monoacylglycerol_lipase_inhibitor\", \"ras_gtpase_inhibitor\", \"antifungal\", \"glutamate_inhibitor\", \"5-alpha_reductase_inhibitor\", \"pdk_inhibitor\", \"caspase_activator\", \"gonadotropin_receptor_agonist\", \"transient_receptor_potential_channel_antagonist\", \"free_radical_scavenger\", \"focal_adhesion_kinase_inhibitor\", \"farnesyltransferase_inhibitor\", \"11-beta-hsd1_inhibitor\", \"monopolar_spindle_1_kinase_inhibitor\", \"cck_receptor_antagonist\", \"progesterone_receptor_antagonist\", \"nrf2_activator\", \"antimalarial\", \"atr_kinase_inhibitor\", \"thrombin_inhibitor\", \"syk_inhibitor\", \"protein_tyrosine_kinase_inhibitor\", \"fungal_squalene_epoxidase_inhibitor\", \"antiviral\", \"p-glycoprotein_inhibitor\", \"beta_amyloid_inhibitor\", \"histone_lysine_demethylase_inhibitor\", \"chk_inhibitor\", \"acat_inhibitor\", \"fatty_acid_receptor_agonist\", \"dipeptidyl_peptidase_inhibitor\", \"phospholipase_inhibitor\", \"trpv_agonist\", \"mineralocorticoid_receptor_antagonist\", \"sphingosine_receptor_agonist\", \"smoothened_receptor_antagonist\", \"rna_polymerase_inhibitor\", \"vitamin_b\", \"nitric_oxide_donor\", \"nitric_oxide_synthase_inhibitor\", \"btk_inhibitor\", \"insulin_secretagogue\", \"ppar_receptor_antagonist\", \"tgf-beta_receptor_inhibitor\", \"ikk_inhibitor\", \"tlr_agonist\", \"wnt_inhibitor\", \"bcl_inhibitor\", \"pkc_inhibitor\", \"mdm_inhibitor\", \"imidazoline_receptor_agonist\", \"histone_lysine_methyltransferase_inhibitor\", \"rho_associated_kinase_inhibitor\", \"prostaglandin_inhibitor\", \"carbonic_anhydrase_inhibitor\", \"antiprotozoal\", \"casein_kinase_inhibitor\", \"sigma_receptor_agonist\", \"sigma_receptor_antagonist\", \"angiogenesis_inhibitor\", \"bacterial_antifolate\", \"dihydrofolate_reductase_inhibitor\", \"tnf_inhibitor\", \"faah_inhibitor\", \"corticosteroid_agonist\", \"angiotensin_receptor_antagonist\", \"thymidylate_synthase_inhibitor\", \"orexin_receptor_antagonist\", \"igf-1_inhibitor\", \"ribonucleoside_reductase_inhibitor\", \"neuropeptide_receptor_antagonist\", \"bcr-abl_inhibitor\", \"vitamin_d_receptor_agonist\", \"chloride_channel_blocker\", \"cannabinoid_receptor_agonist\", \"integrin_inhibitor\", \"alk_inhibitor\", \"antibiotic\", \"serotonin_reuptake_inhibitor\", \"aromatase_inhibitor\", \"cholesterol_inhibitor\", \"estrogen_receptor_antagonist\", \"mucolytic_agent\", \"androgen_receptor_agonist\", \"trpv_antagonist\", \"dna_alkylating_agent\", \"protein_kinase_inhibitor\", \"apoptosis_stimulant\", \"fgfr_inhibitor\", \"insulin_sensitizer\", \"adenosine_receptor_agonist\", \"chelating_agent\", \"cholinergic_receptor_antagonist\", \"cannabinoid_receptor_antagonist\", \"potassium_channel_activator\", \"radiopaque_medium\", \"gamma_secretase_inhibitor\", \"histamine_receptor_agonist\", \"gsk_inhibitor\", \"tachykinin_antagonist\", \"bacterial_30s_ribosomal_subunit_inhibitor\", \"lipoxygenase_inhibitor\", \"parp_inhibitor\", \"opioid_receptor_agonist\", \"leukotriene_receptor_antagonist\", \"p38_mapk_inhibitor\", \"akt_inhibitor\", \"benzodiazepine_receptor_agonist\", \"retinoid_receptor_agonist\", \"bromodomain_inhibitor\", \"src_inhibitor\", \"hcv_inhibitor\", \"hiv_inhibitor\", \"mek_inhibitor\", \"immunosuppressant\", \"antioxidant\", \"acetylcholinesterase_inhibitor\", \"anti-inflammatory\", \"tyrosine_kinase_inhibitor\", \"glutamate_receptor_agonist\", \"membrane_integrity_inhibitor\", \"bacterial_50s_ribosomal_subunit_inhibitor\", \"anesthetic_-_local\", \"prostanoid_receptor_antagonist\", \"monoamine_oxidase_inhibitor\", \"bacterial_dna_gyrase_inhibitor\", \"androgen_receptor_antagonist\", \"jak_inhibitor\", \"hsp_inhibitor\", \"opioid_receptor_antagonist\", \"adenosine_receptor_antagonist\", \"aurora_kinase_inhibitor\", \"atpase_inhibitor\", \"potassium_channel_antagonist\", \"cc_chemokine_receptor_antagonist\", \"protein_synthesis_inhibitor\", \"cytochrome_p450_inhibitor\", \"hdac_inhibitor\", \"gaba_receptor_agonist\", \"bacterial_dna_inhibitor\", \"ppar_receptor_agonist\", \"progesterone_receptor_agonist\", \"dopamine_receptor_agonist\", \"topoisomerase_inhibitor\", \"mtor_inhibitor\", \"pi3k_inhibitor\", \"estrogen_receptor_agonist\", \"gaba_receptor_antagonist\", \"vegfr_inhibitor\", \"acetylcholine_receptor_agonist\", \"bacterial_cell_wall_synthesis_inhibitor\", \"raf_inhibitor\", \"serotonin_receptor_agonist\", \"histamine_receptor_antagonist\", \"phosphodiesterase_inhibitor\", \"glucocorticoid_receptor_agonist\", \"sodium_channel_inhibitor\", \"adrenergic_receptor_agonist\", \"kit_inhibitor\", \"flt3_inhibitor\", \"calcium_channel_blocker\", \"hmgcr_inhibitor\", \"pdgfr_inhibitor\", \"acetylcholine_receptor_antagonist\", \"tubulin_inhibitor\", \"egfr_inhibitor\", \"cdk_inhibitor\", \"adrenergic_receptor_antagonist\", \"glutamate_receptor_antagonist\", \"dna_inhibitor\", \"serotonin_receptor_antagonist\", \"dopamine_receptor_antagonist\", \"cyclooxygenase_inhibitor\", \"proteasome_inhibitor\", \"nfkb_inhibitor\"], \"yaxis\": \"y\"}],                        {\"barmode\": \"relative\", \"height\": 1000, \"legend\": {\"tracegroupgap\": 0}, \"template\": {\"data\": {\"bar\": [{\"error_x\": {\"color\": \"#2a3f5f\"}, \"error_y\": {\"color\": \"#2a3f5f\"}, \"marker\": {\"line\": {\"color\": \"#E5ECF6\", \"width\": 0.5}}, \"type\": \"bar\"}], \"barpolar\": [{\"marker\": {\"line\": {\"color\": \"#E5ECF6\", \"width\": 0.5}}, \"type\": \"barpolar\"}], \"carpet\": [{\"aaxis\": {\"endlinecolor\": \"#2a3f5f\", \"gridcolor\": \"white\", \"linecolor\": \"white\", \"minorgridcolor\": \"white\", \"startlinecolor\": \"#2a3f5f\"}, \"baxis\": {\"endlinecolor\": \"#2a3f5f\", \"gridcolor\": \"white\", \"linecolor\": \"white\", \"minorgridcolor\": \"white\", \"startlinecolor\": \"#2a3f5f\"}, \"type\": \"carpet\"}], \"choropleth\": [{\"colorbar\": {\"outlinewidth\": 0, \"ticks\": \"\"}, \"type\": \"choropleth\"}], \"contour\": [{\"colorbar\": {\"outlinewidth\": 0, \"ticks\": \"\"}, \"colorscale\": [[0.0, \"#0d0887\"], [0.1111111111111111, \"#46039f\"], [0.2222222222222222, \"#7201a8\"], [0.3333333333333333, \"#9c179e\"], [0.4444444444444444, \"#bd3786\"], [0.5555555555555556, \"#d8576b\"], [0.6666666666666666, \"#ed7953\"], [0.7777777777777778, \"#fb9f3a\"], [0.8888888888888888, \"#fdca26\"], [1.0, \"#f0f921\"]], \"type\": \"contour\"}], \"contourcarpet\": [{\"colorbar\": {\"outlinewidth\": 0, \"ticks\": \"\"}, \"type\": \"contourcarpet\"}], \"heatmap\": [{\"colorbar\": {\"outlinewidth\": 0, \"ticks\": \"\"}, \"colorscale\": [[0.0, \"#0d0887\"], [0.1111111111111111, \"#46039f\"], [0.2222222222222222, \"#7201a8\"], [0.3333333333333333, \"#9c179e\"], [0.4444444444444444, \"#bd3786\"], [0.5555555555555556, \"#d8576b\"], [0.6666666666666666, \"#ed7953\"], [0.7777777777777778, \"#fb9f3a\"], [0.8888888888888888, \"#fdca26\"], [1.0, \"#f0f921\"]], \"type\": \"heatmap\"}], \"heatmapgl\": [{\"colorbar\": {\"outlinewidth\": 0, \"ticks\": \"\"}, \"colorscale\": [[0.0, \"#0d0887\"], [0.1111111111111111, \"#46039f\"], [0.2222222222222222, \"#7201a8\"], [0.3333333333333333, \"#9c179e\"], [0.4444444444444444, \"#bd3786\"], [0.5555555555555556, \"#d8576b\"], [0.6666666666666666, \"#ed7953\"], [0.7777777777777778, \"#fb9f3a\"], [0.8888888888888888, \"#fdca26\"], [1.0, \"#f0f921\"]], \"type\": \"heatmapgl\"}], \"histogram\": [{\"marker\": {\"colorbar\": {\"outlinewidth\": 0, \"ticks\": \"\"}}, \"type\": \"histogram\"}], \"histogram2d\": [{\"colorbar\": {\"outlinewidth\": 0, \"ticks\": \"\"}, \"colorscale\": [[0.0, \"#0d0887\"], [0.1111111111111111, \"#46039f\"], [0.2222222222222222, \"#7201a8\"], [0.3333333333333333, \"#9c179e\"], [0.4444444444444444, \"#bd3786\"], [0.5555555555555556, \"#d8576b\"], [0.6666666666666666, \"#ed7953\"], [0.7777777777777778, \"#fb9f3a\"], [0.8888888888888888, \"#fdca26\"], [1.0, \"#f0f921\"]], \"type\": \"histogram2d\"}], \"histogram2dcontour\": [{\"colorbar\": {\"outlinewidth\": 0, \"ticks\": \"\"}, \"colorscale\": [[0.0, \"#0d0887\"], [0.1111111111111111, \"#46039f\"], [0.2222222222222222, \"#7201a8\"], [0.3333333333333333, \"#9c179e\"], [0.4444444444444444, \"#bd3786\"], [0.5555555555555556, \"#d8576b\"], [0.6666666666666666, \"#ed7953\"], [0.7777777777777778, \"#fb9f3a\"], [0.8888888888888888, \"#fdca26\"], [1.0, \"#f0f921\"]], \"type\": \"histogram2dcontour\"}], \"mesh3d\": [{\"colorbar\": {\"outlinewidth\": 0, \"ticks\": \"\"}, \"type\": \"mesh3d\"}], \"parcoords\": [{\"line\": {\"colorbar\": {\"outlinewidth\": 0, \"ticks\": \"\"}}, \"type\": \"parcoords\"}], \"pie\": [{\"automargin\": true, \"type\": \"pie\"}], \"scatter\": [{\"marker\": {\"colorbar\": {\"outlinewidth\": 0, \"ticks\": \"\"}}, \"type\": \"scatter\"}], \"scatter3d\": [{\"line\": {\"colorbar\": {\"outlinewidth\": 0, \"ticks\": \"\"}}, \"marker\": {\"colorbar\": {\"outlinewidth\": 0, \"ticks\": \"\"}}, \"type\": \"scatter3d\"}], \"scattercarpet\": [{\"marker\": {\"colorbar\": {\"outlinewidth\": 0, \"ticks\": \"\"}}, \"type\": \"scattercarpet\"}], \"scattergeo\": [{\"marker\": {\"colorbar\": {\"outlinewidth\": 0, \"ticks\": \"\"}}, \"type\": \"scattergeo\"}], \"scattergl\": [{\"marker\": {\"colorbar\": {\"outlinewidth\": 0, \"ticks\": \"\"}}, \"type\": \"scattergl\"}], \"scattermapbox\": [{\"marker\": {\"colorbar\": {\"outlinewidth\": 0, \"ticks\": \"\"}}, \"type\": \"scattermapbox\"}], \"scatterpolar\": [{\"marker\": {\"colorbar\": {\"outlinewidth\": 0, \"ticks\": \"\"}}, \"type\": \"scatterpolar\"}], \"scatterpolargl\": [{\"marker\": {\"colorbar\": {\"outlinewidth\": 0, \"ticks\": \"\"}}, \"type\": \"scatterpolargl\"}], \"scatterternary\": [{\"marker\": {\"colorbar\": {\"outlinewidth\": 0, \"ticks\": \"\"}}, \"type\": \"scatterternary\"}], \"surface\": [{\"colorbar\": {\"outlinewidth\": 0, \"ticks\": \"\"}, \"colorscale\": [[0.0, \"#0d0887\"], [0.1111111111111111, \"#46039f\"], [0.2222222222222222, \"#7201a8\"], [0.3333333333333333, \"#9c179e\"], [0.4444444444444444, \"#bd3786\"], [0.5555555555555556, \"#d8576b\"], [0.6666666666666666, \"#ed7953\"], [0.7777777777777778, \"#fb9f3a\"], [0.8888888888888888, \"#fdca26\"], [1.0, \"#f0f921\"]], \"type\": \"surface\"}], \"table\": [{\"cells\": {\"fill\": {\"color\": \"#EBF0F8\"}, \"line\": {\"color\": \"white\"}}, \"header\": {\"fill\": {\"color\": \"#C8D4E3\"}, \"line\": {\"color\": \"white\"}}, \"type\": \"table\"}]}, \"layout\": {\"annotationdefaults\": {\"arrowcolor\": \"#2a3f5f\", \"arrowhead\": 0, \"arrowwidth\": 1}, \"coloraxis\": {\"colorbar\": {\"outlinewidth\": 0, \"ticks\": \"\"}}, \"colorscale\": {\"diverging\": [[0, \"#8e0152\"], [0.1, \"#c51b7d\"], [0.2, \"#de77ae\"], [0.3, \"#f1b6da\"], [0.4, \"#fde0ef\"], [0.5, \"#f7f7f7\"], [0.6, \"#e6f5d0\"], [0.7, \"#b8e186\"], [0.8, \"#7fbc41\"], [0.9, \"#4d9221\"], [1, \"#276419\"]], \"sequential\": [[0.0, \"#0d0887\"], [0.1111111111111111, \"#46039f\"], [0.2222222222222222, \"#7201a8\"], [0.3333333333333333, \"#9c179e\"], [0.4444444444444444, \"#bd3786\"], [0.5555555555555556, \"#d8576b\"], [0.6666666666666666, \"#ed7953\"], [0.7777777777777778, \"#fb9f3a\"], [0.8888888888888888, \"#fdca26\"], [1.0, \"#f0f921\"]], \"sequentialminus\": [[0.0, \"#0d0887\"], [0.1111111111111111, \"#46039f\"], [0.2222222222222222, \"#7201a8\"], [0.3333333333333333, \"#9c179e\"], [0.4444444444444444, \"#bd3786\"], [0.5555555555555556, \"#d8576b\"], [0.6666666666666666, \"#ed7953\"], [0.7777777777777778, \"#fb9f3a\"], [0.8888888888888888, \"#fdca26\"], [1.0, \"#f0f921\"]]}, \"colorway\": [\"#636efa\", \"#EF553B\", \"#00cc96\", \"#ab63fa\", \"#FFA15A\", \"#19d3f3\", \"#FF6692\", \"#B6E880\", \"#FF97FF\", \"#FECB52\"], \"font\": {\"color\": \"#2a3f5f\"}, \"geo\": {\"bgcolor\": \"white\", \"lakecolor\": \"white\", \"landcolor\": \"#E5ECF6\", \"showlakes\": true, \"showland\": true, \"subunitcolor\": \"white\"}, \"hoverlabel\": {\"align\": \"left\"}, \"hovermode\": \"closest\", \"mapbox\": {\"style\": \"light\"}, \"paper_bgcolor\": \"white\", \"plot_bgcolor\": \"#E5ECF6\", \"polar\": {\"angularaxis\": {\"gridcolor\": \"white\", \"linecolor\": \"white\", \"ticks\": \"\"}, \"bgcolor\": \"#E5ECF6\", \"radialaxis\": {\"gridcolor\": \"white\", \"linecolor\": \"white\", \"ticks\": \"\"}}, \"scene\": {\"xaxis\": {\"backgroundcolor\": \"#E5ECF6\", \"gridcolor\": \"white\", \"gridwidth\": 2, \"linecolor\": \"white\", \"showbackground\": true, \"ticks\": \"\", \"zerolinecolor\": \"white\"}, \"yaxis\": {\"backgroundcolor\": \"#E5ECF6\", \"gridcolor\": \"white\", \"gridwidth\": 2, \"linecolor\": \"white\", \"showbackground\": true, \"ticks\": \"\", \"zerolinecolor\": \"white\"}, \"zaxis\": {\"backgroundcolor\": \"#E5ECF6\", \"gridcolor\": \"white\", \"gridwidth\": 2, \"linecolor\": \"white\", \"showbackground\": true, \"ticks\": \"\", \"zerolinecolor\": \"white\"}}, \"shapedefaults\": {\"line\": {\"color\": \"#2a3f5f\"}}, \"ternary\": {\"aaxis\": {\"gridcolor\": \"white\", \"linecolor\": \"white\", \"ticks\": \"\"}, \"baxis\": {\"gridcolor\": \"white\", \"linecolor\": \"white\", \"ticks\": \"\"}, \"bgcolor\": \"#E5ECF6\", \"caxis\": {\"gridcolor\": \"white\", \"linecolor\": \"white\", \"ticks\": \"\"}}, \"title\": {\"x\": 0.05}, \"xaxis\": {\"automargin\": true, \"gridcolor\": \"white\", \"linecolor\": \"white\", \"ticks\": \"\", \"title\": {\"standoff\": 15}, \"zerolinecolor\": \"white\", \"zerolinewidth\": 2}, \"yaxis\": {\"automargin\": true, \"gridcolor\": \"white\", \"linecolor\": \"white\", \"ticks\": \"\", \"title\": {\"standoff\": 15}, \"zerolinecolor\": \"white\", \"zerolinewidth\": 2}}}, \"title\": {\"text\": \"Label counts BEFORE\"}, \"width\": 800, \"xaxis\": {\"anchor\": \"y\", \"domain\": [0.0, 1.0], \"title\": {\"text\": \"nonzero_records\"}}, \"yaxis\": {\"anchor\": \"x\", \"domain\": [0.0, 1.0], \"title\": {\"text\": \"column\"}}},                        {\"responsive\": true}                    ).then(function(){\n",
       "                            \n",
       "var gd = document.getElementById('650862e0-593a-498d-acf8-b43f01919ee6');\n",
       "var x = new MutationObserver(function (mutations, observer) {{\n",
       "        var display = window.getComputedStyle(gd).display;\n",
       "        if (!display || display === 'none') {{\n",
       "            console.log([gd, 'removed!']);\n",
       "            Plotly.purge(gd);\n",
       "            observer.disconnect();\n",
       "        }}\n",
       "}});\n",
       "\n",
       "// Listen for the removal of the full notebook cells\n",
       "var notebookContainer = gd.closest('#notebook-container');\n",
       "if (notebookContainer) {{\n",
       "    x.observe(notebookContainer, {childList: true});\n",
       "}}\n",
       "\n",
       "// Listen for the clearing of the current output cell\n",
       "var outputEl = gd.closest('.output');\n",
       "if (outputEl) {{\n",
       "    x.observe(outputEl, {childList: true});\n",
       "}}\n",
       "\n",
       "                        })                };                });            </script>        </div>"
      ]
     },
     "metadata": {},
     "output_type": "display_data"
    }
   ],
   "source": [
    "y_before = y_train.sum(axis=0).sort_values().reset_index()\n",
    "y_before.columns = ['column', 'nonzero_records']\n",
    "fig = px.bar(\n",
    "    y_before, \n",
    "    x='nonzero_records', \n",
    "    y='column', \n",
    "    orientation='h', \n",
    "    title='Label counts BEFORE', \n",
    "    width=800,\n",
    "    height=1000\n",
    ")\n",
    "\n",
    "fig.show()"
   ]
  },
  {
   "cell_type": "code",
   "execution_count": 23,
   "metadata": {},
   "outputs": [
    {
     "data": {
      "application/vnd.plotly.v1+json": {
       "config": {
        "plotlyServerURL": "https://plot.ly"
       },
       "data": [
        {
         "alignmentgroup": "True",
         "hovertemplate": "nonzero_records=%{x}<br>column=%{y}<extra></extra>",
         "legendgroup": "",
         "marker": {
          "color": "#636efa"
         },
         "name": "",
         "offsetgroup": "",
         "orientation": "h",
         "showlegend": false,
         "textposition": "auto",
         "type": "bar",
         "x": [
          1,
          1,
          6,
          6,
          6,
          6,
          6,
          6,
          6,
          6,
          6,
          6,
          6,
          6,
          6,
          6,
          6,
          6,
          9,
          14,
          19,
          23,
          23,
          24,
          26,
          27,
          28,
          28,
          30,
          30,
          31,
          32,
          33,
          34,
          35,
          35,
          36,
          37,
          38,
          38,
          39,
          40,
          40,
          41,
          43,
          44,
          44,
          45,
          45,
          46,
          46,
          46,
          47,
          48,
          48,
          48,
          48,
          48,
          48,
          48,
          49,
          49,
          50,
          50,
          51,
          52,
          53,
          54,
          54,
          54,
          54,
          54,
          54,
          55,
          55,
          56,
          56,
          56,
          57,
          57,
          57,
          58,
          59,
          59,
          60,
          60,
          60,
          61,
          61,
          61,
          61,
          61,
          61,
          61,
          62,
          62,
          65,
          65,
          66,
          67,
          67,
          68,
          69,
          72,
          72,
          72,
          73,
          73,
          73,
          73,
          74,
          74,
          75,
          75,
          76,
          77,
          77,
          78,
          78,
          79,
          80,
          80,
          84,
          84,
          85,
          86,
          88,
          88,
          89,
          89,
          93,
          95,
          96,
          96,
          96,
          97,
          98,
          98,
          98,
          99,
          100,
          101,
          102,
          102,
          102,
          103,
          104,
          104,
          106,
          106,
          106,
          106,
          108,
          111,
          112,
          115,
          116,
          116,
          121,
          130,
          139,
          141,
          148,
          149,
          150,
          152,
          153,
          153,
          157,
          157,
          165,
          170,
          173,
          175,
          180,
          186,
          188,
          190,
          192,
          223,
          236,
          241,
          241,
          262,
          264,
          267,
          274,
          276,
          281,
          283,
          287,
          291,
          301,
          309,
          316,
          340,
          363,
          387,
          393,
          429,
          437,
          438,
          455,
          482,
          726,
          944
         ],
         "xaxis": "x",
         "y": [
          "erbb2_inhibitor",
          "atp-sensitive_potassium_channel_antagonist",
          "atm_kinase_inhibitor",
          "antiarrhythmic",
          "autotaxin_inhibitor",
          "steroid",
          "leukotriene_inhibitor",
          "protein_phosphatase_inhibitor",
          "retinoid_receptor_antagonist",
          "elastase_inhibitor",
          "diuretic",
          "laxative",
          "tropomyosin_receptor_kinase_inhibitor",
          "coagulation_factor_inhibitor",
          "nicotinic_receptor_agonist",
          "ubiquitin_specific_protease_inhibitor",
          "lxr_agonist",
          "calcineurin_inhibitor",
          "aldehyde_dehydrogenase_inhibitor",
          "bacterial_membrane_integrity_inhibitor",
          "lipase_inhibitor",
          "adenylyl_cyclase_activator",
          "monoacylglycerol_lipase_inhibitor",
          "focal_adhesion_kinase_inhibitor",
          "analgesic",
          "catechol_o_methyltransferase_inhibitor",
          "farnesyltransferase_inhibitor",
          "anticonvulsant",
          "nitric_oxide_production_inhibitor",
          "atr_kinase_inhibitor",
          "atp_synthase_inhibitor",
          "free_radical_scavenger",
          "syk_inhibitor",
          "ras_gtpase_inhibitor",
          "antiviral",
          "tlr_antagonist",
          "antifungal",
          "pdk_inhibitor",
          "smoothened_receptor_antagonist",
          "glutamate_inhibitor",
          "antihistamine",
          "chk_inhibitor",
          "norepinephrine_reuptake_inhibitor",
          "fungal_squalene_epoxidase_inhibitor",
          "mineralocorticoid_receptor_antagonist",
          "sphingosine_receptor_agonist",
          "ampk_activator",
          "gonadotropin_receptor_agonist",
          "trpv_agonist",
          "cck_receptor_antagonist",
          "p-glycoprotein_inhibitor",
          "antimalarial",
          "fatty_acid_receptor_agonist",
          "dna_alkylating_agent",
          "mucolytic_agent",
          "androgen_receptor_agonist",
          "mdm_inhibitor",
          "protein_kinase_inhibitor",
          "estrogen_receptor_antagonist",
          "cholesterol_inhibitor",
          "caspase_activator",
          "vitamin_b",
          "fgfr_inhibitor",
          "acat_inhibitor",
          "insulin_sensitizer",
          "phospholipase_inhibitor",
          "monopolar_spindle_1_kinase_inhibitor",
          "corticosteroid_agonist",
          "insulin_secretagogue",
          "chelating_agent",
          "trpv_antagonist",
          "adenosine_receptor_agonist",
          "cholinergic_receptor_antagonist",
          "cannabinoid_receptor_antagonist",
          "wnt_inhibitor",
          "gamma_secretase_inhibitor",
          "btk_inhibitor",
          "radiopaque_medium",
          "nitric_oxide_synthase_inhibitor",
          "tgf-beta_receptor_inhibitor",
          "protein_tyrosine_kinase_inhibitor",
          "11-beta-hsd1_inhibitor",
          "histamine_receptor_agonist",
          "histone_lysine_demethylase_inhibitor",
          "tachykinin_antagonist",
          "gsk_inhibitor",
          "bacterial_30s_ribosomal_subunit_inhibitor",
          "potassium_channel_activator",
          "lipoxygenase_inhibitor",
          "rna_polymerase_inhibitor",
          "parp_inhibitor",
          "opioid_receptor_agonist",
          "bcl_inhibitor",
          "imidazoline_receptor_agonist",
          "histone_lysine_methyltransferase_inhibitor",
          "leukotriene_receptor_antagonist",
          "progesterone_receptor_antagonist",
          "faah_inhibitor",
          "akt_inhibitor",
          "retinoid_receptor_agonist",
          "benzodiazepine_receptor_agonist",
          "bromodomain_inhibitor",
          "transient_receptor_potential_channel_antagonist",
          "mek_inhibitor",
          "igf-1_inhibitor",
          "hcv_inhibitor",
          "antioxidant",
          "rho_associated_kinase_inhibitor",
          "anti-inflammatory",
          "ppar_receptor_antagonist",
          "glutamate_receptor_agonist",
          "membrane_integrity_inhibitor",
          "p38_mapk_inhibitor",
          "ikk_inhibitor",
          "vitamin_d_receptor_agonist",
          "tyrosine_kinase_inhibitor",
          "immunosuppressant",
          "thrombin_inhibitor",
          "bcr-abl_inhibitor",
          "ribonucleoside_reductase_inhibitor",
          "anesthetic_-_local",
          "bacterial_50s_ribosomal_subunit_inhibitor",
          "prostanoid_receptor_antagonist",
          "dipeptidyl_peptidase_inhibitor",
          "monoamine_oxidase_inhibitor",
          "angiotensin_receptor_antagonist",
          "casein_kinase_inhibitor",
          "src_inhibitor",
          "androgen_receptor_antagonist",
          "bacterial_dna_gyrase_inhibitor",
          "hsp_inhibitor",
          "apoptosis_stimulant",
          "carbonic_anhydrase_inhibitor",
          "adenosine_receptor_antagonist",
          "opioid_receptor_antagonist",
          "alk_inhibitor",
          "potassium_channel_antagonist",
          "5-alpha_reductase_inhibitor",
          "hiv_inhibitor",
          "tnf_inhibitor",
          "thymidylate_synthase_inhibitor",
          "angiogenesis_inhibitor",
          "cc_chemokine_receptor_antagonist",
          "jak_inhibitor",
          "pkc_inhibitor",
          "protein_synthesis_inhibitor",
          "nrf2_activator",
          "integrin_inhibitor",
          "hdac_inhibitor",
          "aurora_kinase_inhibitor",
          "gaba_receptor_agonist",
          "neuropeptide_receptor_antagonist",
          "acetylcholinesterase_inhibitor",
          "antiprotozoal",
          "cytochrome_p450_inhibitor",
          "bacterial_dna_inhibitor",
          "aromatase_inhibitor",
          "cannabinoid_receptor_agonist",
          "dopamine_receptor_agonist",
          "mtor_inhibitor",
          "chloride_channel_blocker",
          "progesterone_receptor_agonist",
          "atpase_inhibitor",
          "dihydrofolate_reductase_inhibitor",
          "beta_amyloid_inhibitor",
          "ppar_receptor_agonist",
          "prostaglandin_inhibitor",
          "topoisomerase_inhibitor",
          "sigma_receptor_antagonist",
          "pi3k_inhibitor",
          "gaba_receptor_antagonist",
          "vegfr_inhibitor",
          "sigma_receptor_agonist",
          "serotonin_reuptake_inhibitor",
          "estrogen_receptor_agonist",
          "tlr_agonist",
          "antibiotic",
          "acetylcholine_receptor_agonist",
          "bacterial_cell_wall_synthesis_inhibitor",
          "raf_inhibitor",
          "serotonin_receptor_agonist",
          "bacterial_antifolate",
          "histamine_receptor_antagonist",
          "nitric_oxide_donor",
          "phosphodiesterase_inhibitor",
          "sodium_channel_inhibitor",
          "glucocorticoid_receptor_agonist",
          "adrenergic_receptor_agonist",
          "calcium_channel_blocker",
          "hmgcr_inhibitor",
          "kit_inhibitor",
          "flt3_inhibitor",
          "acetylcholine_receptor_antagonist",
          "pdgfr_inhibitor",
          "tubulin_inhibitor",
          "cdk_inhibitor",
          "egfr_inhibitor",
          "glutamate_receptor_antagonist",
          "adrenergic_receptor_antagonist",
          "orexin_receptor_antagonist",
          "serotonin_receptor_antagonist",
          "cyclooxygenase_inhibitor",
          "dna_inhibitor",
          "dopamine_receptor_antagonist",
          "proteasome_inhibitor",
          "nfkb_inhibitor"
         ],
         "yaxis": "y"
        }
       ],
       "layout": {
        "barmode": "relative",
        "height": 1000,
        "legend": {
         "tracegroupgap": 0
        },
        "template": {
         "data": {
          "bar": [
           {
            "error_x": {
             "color": "#2a3f5f"
            },
            "error_y": {
             "color": "#2a3f5f"
            },
            "marker": {
             "line": {
              "color": "#E5ECF6",
              "width": 0.5
             }
            },
            "type": "bar"
           }
          ],
          "barpolar": [
           {
            "marker": {
             "line": {
              "color": "#E5ECF6",
              "width": 0.5
             }
            },
            "type": "barpolar"
           }
          ],
          "carpet": [
           {
            "aaxis": {
             "endlinecolor": "#2a3f5f",
             "gridcolor": "white",
             "linecolor": "white",
             "minorgridcolor": "white",
             "startlinecolor": "#2a3f5f"
            },
            "baxis": {
             "endlinecolor": "#2a3f5f",
             "gridcolor": "white",
             "linecolor": "white",
             "minorgridcolor": "white",
             "startlinecolor": "#2a3f5f"
            },
            "type": "carpet"
           }
          ],
          "choropleth": [
           {
            "colorbar": {
             "outlinewidth": 0,
             "ticks": ""
            },
            "type": "choropleth"
           }
          ],
          "contour": [
           {
            "colorbar": {
             "outlinewidth": 0,
             "ticks": ""
            },
            "colorscale": [
             [
              0,
              "#0d0887"
             ],
             [
              0.1111111111111111,
              "#46039f"
             ],
             [
              0.2222222222222222,
              "#7201a8"
             ],
             [
              0.3333333333333333,
              "#9c179e"
             ],
             [
              0.4444444444444444,
              "#bd3786"
             ],
             [
              0.5555555555555556,
              "#d8576b"
             ],
             [
              0.6666666666666666,
              "#ed7953"
             ],
             [
              0.7777777777777778,
              "#fb9f3a"
             ],
             [
              0.8888888888888888,
              "#fdca26"
             ],
             [
              1,
              "#f0f921"
             ]
            ],
            "type": "contour"
           }
          ],
          "contourcarpet": [
           {
            "colorbar": {
             "outlinewidth": 0,
             "ticks": ""
            },
            "type": "contourcarpet"
           }
          ],
          "heatmap": [
           {
            "colorbar": {
             "outlinewidth": 0,
             "ticks": ""
            },
            "colorscale": [
             [
              0,
              "#0d0887"
             ],
             [
              0.1111111111111111,
              "#46039f"
             ],
             [
              0.2222222222222222,
              "#7201a8"
             ],
             [
              0.3333333333333333,
              "#9c179e"
             ],
             [
              0.4444444444444444,
              "#bd3786"
             ],
             [
              0.5555555555555556,
              "#d8576b"
             ],
             [
              0.6666666666666666,
              "#ed7953"
             ],
             [
              0.7777777777777778,
              "#fb9f3a"
             ],
             [
              0.8888888888888888,
              "#fdca26"
             ],
             [
              1,
              "#f0f921"
             ]
            ],
            "type": "heatmap"
           }
          ],
          "heatmapgl": [
           {
            "colorbar": {
             "outlinewidth": 0,
             "ticks": ""
            },
            "colorscale": [
             [
              0,
              "#0d0887"
             ],
             [
              0.1111111111111111,
              "#46039f"
             ],
             [
              0.2222222222222222,
              "#7201a8"
             ],
             [
              0.3333333333333333,
              "#9c179e"
             ],
             [
              0.4444444444444444,
              "#bd3786"
             ],
             [
              0.5555555555555556,
              "#d8576b"
             ],
             [
              0.6666666666666666,
              "#ed7953"
             ],
             [
              0.7777777777777778,
              "#fb9f3a"
             ],
             [
              0.8888888888888888,
              "#fdca26"
             ],
             [
              1,
              "#f0f921"
             ]
            ],
            "type": "heatmapgl"
           }
          ],
          "histogram": [
           {
            "marker": {
             "colorbar": {
              "outlinewidth": 0,
              "ticks": ""
             }
            },
            "type": "histogram"
           }
          ],
          "histogram2d": [
           {
            "colorbar": {
             "outlinewidth": 0,
             "ticks": ""
            },
            "colorscale": [
             [
              0,
              "#0d0887"
             ],
             [
              0.1111111111111111,
              "#46039f"
             ],
             [
              0.2222222222222222,
              "#7201a8"
             ],
             [
              0.3333333333333333,
              "#9c179e"
             ],
             [
              0.4444444444444444,
              "#bd3786"
             ],
             [
              0.5555555555555556,
              "#d8576b"
             ],
             [
              0.6666666666666666,
              "#ed7953"
             ],
             [
              0.7777777777777778,
              "#fb9f3a"
             ],
             [
              0.8888888888888888,
              "#fdca26"
             ],
             [
              1,
              "#f0f921"
             ]
            ],
            "type": "histogram2d"
           }
          ],
          "histogram2dcontour": [
           {
            "colorbar": {
             "outlinewidth": 0,
             "ticks": ""
            },
            "colorscale": [
             [
              0,
              "#0d0887"
             ],
             [
              0.1111111111111111,
              "#46039f"
             ],
             [
              0.2222222222222222,
              "#7201a8"
             ],
             [
              0.3333333333333333,
              "#9c179e"
             ],
             [
              0.4444444444444444,
              "#bd3786"
             ],
             [
              0.5555555555555556,
              "#d8576b"
             ],
             [
              0.6666666666666666,
              "#ed7953"
             ],
             [
              0.7777777777777778,
              "#fb9f3a"
             ],
             [
              0.8888888888888888,
              "#fdca26"
             ],
             [
              1,
              "#f0f921"
             ]
            ],
            "type": "histogram2dcontour"
           }
          ],
          "mesh3d": [
           {
            "colorbar": {
             "outlinewidth": 0,
             "ticks": ""
            },
            "type": "mesh3d"
           }
          ],
          "parcoords": [
           {
            "line": {
             "colorbar": {
              "outlinewidth": 0,
              "ticks": ""
             }
            },
            "type": "parcoords"
           }
          ],
          "pie": [
           {
            "automargin": true,
            "type": "pie"
           }
          ],
          "scatter": [
           {
            "marker": {
             "colorbar": {
              "outlinewidth": 0,
              "ticks": ""
             }
            },
            "type": "scatter"
           }
          ],
          "scatter3d": [
           {
            "line": {
             "colorbar": {
              "outlinewidth": 0,
              "ticks": ""
             }
            },
            "marker": {
             "colorbar": {
              "outlinewidth": 0,
              "ticks": ""
             }
            },
            "type": "scatter3d"
           }
          ],
          "scattercarpet": [
           {
            "marker": {
             "colorbar": {
              "outlinewidth": 0,
              "ticks": ""
             }
            },
            "type": "scattercarpet"
           }
          ],
          "scattergeo": [
           {
            "marker": {
             "colorbar": {
              "outlinewidth": 0,
              "ticks": ""
             }
            },
            "type": "scattergeo"
           }
          ],
          "scattergl": [
           {
            "marker": {
             "colorbar": {
              "outlinewidth": 0,
              "ticks": ""
             }
            },
            "type": "scattergl"
           }
          ],
          "scattermapbox": [
           {
            "marker": {
             "colorbar": {
              "outlinewidth": 0,
              "ticks": ""
             }
            },
            "type": "scattermapbox"
           }
          ],
          "scatterpolar": [
           {
            "marker": {
             "colorbar": {
              "outlinewidth": 0,
              "ticks": ""
             }
            },
            "type": "scatterpolar"
           }
          ],
          "scatterpolargl": [
           {
            "marker": {
             "colorbar": {
              "outlinewidth": 0,
              "ticks": ""
             }
            },
            "type": "scatterpolargl"
           }
          ],
          "scatterternary": [
           {
            "marker": {
             "colorbar": {
              "outlinewidth": 0,
              "ticks": ""
             }
            },
            "type": "scatterternary"
           }
          ],
          "surface": [
           {
            "colorbar": {
             "outlinewidth": 0,
             "ticks": ""
            },
            "colorscale": [
             [
              0,
              "#0d0887"
             ],
             [
              0.1111111111111111,
              "#46039f"
             ],
             [
              0.2222222222222222,
              "#7201a8"
             ],
             [
              0.3333333333333333,
              "#9c179e"
             ],
             [
              0.4444444444444444,
              "#bd3786"
             ],
             [
              0.5555555555555556,
              "#d8576b"
             ],
             [
              0.6666666666666666,
              "#ed7953"
             ],
             [
              0.7777777777777778,
              "#fb9f3a"
             ],
             [
              0.8888888888888888,
              "#fdca26"
             ],
             [
              1,
              "#f0f921"
             ]
            ],
            "type": "surface"
           }
          ],
          "table": [
           {
            "cells": {
             "fill": {
              "color": "#EBF0F8"
             },
             "line": {
              "color": "white"
             }
            },
            "header": {
             "fill": {
              "color": "#C8D4E3"
             },
             "line": {
              "color": "white"
             }
            },
            "type": "table"
           }
          ]
         },
         "layout": {
          "annotationdefaults": {
           "arrowcolor": "#2a3f5f",
           "arrowhead": 0,
           "arrowwidth": 1
          },
          "coloraxis": {
           "colorbar": {
            "outlinewidth": 0,
            "ticks": ""
           }
          },
          "colorscale": {
           "diverging": [
            [
             0,
             "#8e0152"
            ],
            [
             0.1,
             "#c51b7d"
            ],
            [
             0.2,
             "#de77ae"
            ],
            [
             0.3,
             "#f1b6da"
            ],
            [
             0.4,
             "#fde0ef"
            ],
            [
             0.5,
             "#f7f7f7"
            ],
            [
             0.6,
             "#e6f5d0"
            ],
            [
             0.7,
             "#b8e186"
            ],
            [
             0.8,
             "#7fbc41"
            ],
            [
             0.9,
             "#4d9221"
            ],
            [
             1,
             "#276419"
            ]
           ],
           "sequential": [
            [
             0,
             "#0d0887"
            ],
            [
             0.1111111111111111,
             "#46039f"
            ],
            [
             0.2222222222222222,
             "#7201a8"
            ],
            [
             0.3333333333333333,
             "#9c179e"
            ],
            [
             0.4444444444444444,
             "#bd3786"
            ],
            [
             0.5555555555555556,
             "#d8576b"
            ],
            [
             0.6666666666666666,
             "#ed7953"
            ],
            [
             0.7777777777777778,
             "#fb9f3a"
            ],
            [
             0.8888888888888888,
             "#fdca26"
            ],
            [
             1,
             "#f0f921"
            ]
           ],
           "sequentialminus": [
            [
             0,
             "#0d0887"
            ],
            [
             0.1111111111111111,
             "#46039f"
            ],
            [
             0.2222222222222222,
             "#7201a8"
            ],
            [
             0.3333333333333333,
             "#9c179e"
            ],
            [
             0.4444444444444444,
             "#bd3786"
            ],
            [
             0.5555555555555556,
             "#d8576b"
            ],
            [
             0.6666666666666666,
             "#ed7953"
            ],
            [
             0.7777777777777778,
             "#fb9f3a"
            ],
            [
             0.8888888888888888,
             "#fdca26"
            ],
            [
             1,
             "#f0f921"
            ]
           ]
          },
          "colorway": [
           "#636efa",
           "#EF553B",
           "#00cc96",
           "#ab63fa",
           "#FFA15A",
           "#19d3f3",
           "#FF6692",
           "#B6E880",
           "#FF97FF",
           "#FECB52"
          ],
          "font": {
           "color": "#2a3f5f"
          },
          "geo": {
           "bgcolor": "white",
           "lakecolor": "white",
           "landcolor": "#E5ECF6",
           "showlakes": true,
           "showland": true,
           "subunitcolor": "white"
          },
          "hoverlabel": {
           "align": "left"
          },
          "hovermode": "closest",
          "mapbox": {
           "style": "light"
          },
          "paper_bgcolor": "white",
          "plot_bgcolor": "#E5ECF6",
          "polar": {
           "angularaxis": {
            "gridcolor": "white",
            "linecolor": "white",
            "ticks": ""
           },
           "bgcolor": "#E5ECF6",
           "radialaxis": {
            "gridcolor": "white",
            "linecolor": "white",
            "ticks": ""
           }
          },
          "scene": {
           "xaxis": {
            "backgroundcolor": "#E5ECF6",
            "gridcolor": "white",
            "gridwidth": 2,
            "linecolor": "white",
            "showbackground": true,
            "ticks": "",
            "zerolinecolor": "white"
           },
           "yaxis": {
            "backgroundcolor": "#E5ECF6",
            "gridcolor": "white",
            "gridwidth": 2,
            "linecolor": "white",
            "showbackground": true,
            "ticks": "",
            "zerolinecolor": "white"
           },
           "zaxis": {
            "backgroundcolor": "#E5ECF6",
            "gridcolor": "white",
            "gridwidth": 2,
            "linecolor": "white",
            "showbackground": true,
            "ticks": "",
            "zerolinecolor": "white"
           }
          },
          "shapedefaults": {
           "line": {
            "color": "#2a3f5f"
           }
          },
          "ternary": {
           "aaxis": {
            "gridcolor": "white",
            "linecolor": "white",
            "ticks": ""
           },
           "baxis": {
            "gridcolor": "white",
            "linecolor": "white",
            "ticks": ""
           },
           "bgcolor": "#E5ECF6",
           "caxis": {
            "gridcolor": "white",
            "linecolor": "white",
            "ticks": ""
           }
          },
          "title": {
           "x": 0.05
          },
          "xaxis": {
           "automargin": true,
           "gridcolor": "white",
           "linecolor": "white",
           "ticks": "",
           "title": {
            "standoff": 15
           },
           "zerolinecolor": "white",
           "zerolinewidth": 2
          },
          "yaxis": {
           "automargin": true,
           "gridcolor": "white",
           "linecolor": "white",
           "ticks": "",
           "title": {
            "standoff": 15
           },
           "zerolinecolor": "white",
           "zerolinewidth": 2
          }
         }
        },
        "title": {
         "text": "Label counts AFTER"
        },
        "width": 800,
        "xaxis": {
         "anchor": "y",
         "domain": [
          0,
          1
         ],
         "title": {
          "text": "nonzero_records"
         }
        },
        "yaxis": {
         "anchor": "x",
         "domain": [
          0,
          1
         ],
         "title": {
          "text": "column"
         }
        }
       }
      },
      "text/html": [
       "<div>                            <div id=\"fd3f0e1a-acd1-4a89-bdf9-2012ae85b2d3\" class=\"plotly-graph-div\" style=\"height:1000px; width:800px;\"></div>            <script type=\"text/javascript\">                require([\"plotly\"], function(Plotly) {                    window.PLOTLYENV=window.PLOTLYENV || {};                                    if (document.getElementById(\"fd3f0e1a-acd1-4a89-bdf9-2012ae85b2d3\")) {                    Plotly.newPlot(                        \"fd3f0e1a-acd1-4a89-bdf9-2012ae85b2d3\",                        [{\"alignmentgroup\": \"True\", \"hovertemplate\": \"nonzero_records=%{x}<br>column=%{y}<extra></extra>\", \"legendgroup\": \"\", \"marker\": {\"color\": \"#636efa\"}, \"name\": \"\", \"offsetgroup\": \"\", \"orientation\": \"h\", \"showlegend\": false, \"textposition\": \"auto\", \"type\": \"bar\", \"x\": [1.0, 1.0, 6.0, 6.0, 6.0, 6.0, 6.0, 6.0, 6.0, 6.0, 6.0, 6.0, 6.0, 6.0, 6.0, 6.0, 6.0, 6.0, 9.0, 14.0, 19.0, 23.0, 23.0, 24.0, 26.0, 27.0, 28.0, 28.0, 30.0, 30.0, 31.0, 32.0, 33.0, 34.0, 35.0, 35.0, 36.0, 37.0, 38.0, 38.0, 39.0, 40.0, 40.0, 41.0, 43.0, 44.0, 44.0, 45.0, 45.0, 46.0, 46.0, 46.0, 47.0, 48.0, 48.0, 48.0, 48.0, 48.0, 48.0, 48.0, 49.0, 49.0, 50.0, 50.0, 51.0, 52.0, 53.0, 54.0, 54.0, 54.0, 54.0, 54.0, 54.0, 55.0, 55.0, 56.0, 56.0, 56.0, 57.0, 57.0, 57.0, 58.0, 59.0, 59.0, 60.0, 60.0, 60.0, 61.0, 61.0, 61.0, 61.0, 61.0, 61.0, 61.0, 62.0, 62.0, 65.0, 65.0, 66.0, 67.0, 67.0, 68.0, 69.0, 72.0, 72.0, 72.0, 73.0, 73.0, 73.0, 73.0, 74.0, 74.0, 75.0, 75.0, 76.0, 77.0, 77.0, 78.0, 78.0, 79.0, 80.0, 80.0, 84.0, 84.0, 85.0, 86.0, 88.0, 88.0, 89.0, 89.0, 93.0, 95.0, 96.0, 96.0, 96.0, 97.0, 98.0, 98.0, 98.0, 99.0, 100.0, 101.0, 102.0, 102.0, 102.0, 103.0, 104.0, 104.0, 106.0, 106.0, 106.0, 106.0, 108.0, 111.0, 112.0, 115.0, 116.0, 116.0, 121.0, 130.0, 139.0, 141.0, 148.0, 149.0, 150.0, 152.0, 153.0, 153.0, 157.0, 157.0, 165.0, 170.0, 173.0, 175.0, 180.0, 186.0, 188.0, 190.0, 192.0, 223.0, 236.0, 241.0, 241.0, 262.0, 264.0, 267.0, 274.0, 276.0, 281.0, 283.0, 287.0, 291.0, 301.0, 309.0, 316.0, 340.0, 363.0, 387.0, 393.0, 429.0, 437.0, 438.0, 455.0, 482.0, 726.0, 944.0], \"xaxis\": \"x\", \"y\": [\"erbb2_inhibitor\", \"atp-sensitive_potassium_channel_antagonist\", \"atm_kinase_inhibitor\", \"antiarrhythmic\", \"autotaxin_inhibitor\", \"steroid\", \"leukotriene_inhibitor\", \"protein_phosphatase_inhibitor\", \"retinoid_receptor_antagonist\", \"elastase_inhibitor\", \"diuretic\", \"laxative\", \"tropomyosin_receptor_kinase_inhibitor\", \"coagulation_factor_inhibitor\", \"nicotinic_receptor_agonist\", \"ubiquitin_specific_protease_inhibitor\", \"lxr_agonist\", \"calcineurin_inhibitor\", \"aldehyde_dehydrogenase_inhibitor\", \"bacterial_membrane_integrity_inhibitor\", \"lipase_inhibitor\", \"adenylyl_cyclase_activator\", \"monoacylglycerol_lipase_inhibitor\", \"focal_adhesion_kinase_inhibitor\", \"analgesic\", \"catechol_o_methyltransferase_inhibitor\", \"farnesyltransferase_inhibitor\", \"anticonvulsant\", \"nitric_oxide_production_inhibitor\", \"atr_kinase_inhibitor\", \"atp_synthase_inhibitor\", \"free_radical_scavenger\", \"syk_inhibitor\", \"ras_gtpase_inhibitor\", \"antiviral\", \"tlr_antagonist\", \"antifungal\", \"pdk_inhibitor\", \"smoothened_receptor_antagonist\", \"glutamate_inhibitor\", \"antihistamine\", \"chk_inhibitor\", \"norepinephrine_reuptake_inhibitor\", \"fungal_squalene_epoxidase_inhibitor\", \"mineralocorticoid_receptor_antagonist\", \"sphingosine_receptor_agonist\", \"ampk_activator\", \"gonadotropin_receptor_agonist\", \"trpv_agonist\", \"cck_receptor_antagonist\", \"p-glycoprotein_inhibitor\", \"antimalarial\", \"fatty_acid_receptor_agonist\", \"dna_alkylating_agent\", \"mucolytic_agent\", \"androgen_receptor_agonist\", \"mdm_inhibitor\", \"protein_kinase_inhibitor\", \"estrogen_receptor_antagonist\", \"cholesterol_inhibitor\", \"caspase_activator\", \"vitamin_b\", \"fgfr_inhibitor\", \"acat_inhibitor\", \"insulin_sensitizer\", \"phospholipase_inhibitor\", \"monopolar_spindle_1_kinase_inhibitor\", \"corticosteroid_agonist\", \"insulin_secretagogue\", \"chelating_agent\", \"trpv_antagonist\", \"adenosine_receptor_agonist\", \"cholinergic_receptor_antagonist\", \"cannabinoid_receptor_antagonist\", \"wnt_inhibitor\", \"gamma_secretase_inhibitor\", \"btk_inhibitor\", \"radiopaque_medium\", \"nitric_oxide_synthase_inhibitor\", \"tgf-beta_receptor_inhibitor\", \"protein_tyrosine_kinase_inhibitor\", \"11-beta-hsd1_inhibitor\", \"histamine_receptor_agonist\", \"histone_lysine_demethylase_inhibitor\", \"tachykinin_antagonist\", \"gsk_inhibitor\", \"bacterial_30s_ribosomal_subunit_inhibitor\", \"potassium_channel_activator\", \"lipoxygenase_inhibitor\", \"rna_polymerase_inhibitor\", \"parp_inhibitor\", \"opioid_receptor_agonist\", \"bcl_inhibitor\", \"imidazoline_receptor_agonist\", \"histone_lysine_methyltransferase_inhibitor\", \"leukotriene_receptor_antagonist\", \"progesterone_receptor_antagonist\", \"faah_inhibitor\", \"akt_inhibitor\", \"retinoid_receptor_agonist\", \"benzodiazepine_receptor_agonist\", \"bromodomain_inhibitor\", \"transient_receptor_potential_channel_antagonist\", \"mek_inhibitor\", \"igf-1_inhibitor\", \"hcv_inhibitor\", \"antioxidant\", \"rho_associated_kinase_inhibitor\", \"anti-inflammatory\", \"ppar_receptor_antagonist\", \"glutamate_receptor_agonist\", \"membrane_integrity_inhibitor\", \"p38_mapk_inhibitor\", \"ikk_inhibitor\", \"vitamin_d_receptor_agonist\", \"tyrosine_kinase_inhibitor\", \"immunosuppressant\", \"thrombin_inhibitor\", \"bcr-abl_inhibitor\", \"ribonucleoside_reductase_inhibitor\", \"anesthetic_-_local\", \"bacterial_50s_ribosomal_subunit_inhibitor\", \"prostanoid_receptor_antagonist\", \"dipeptidyl_peptidase_inhibitor\", \"monoamine_oxidase_inhibitor\", \"angiotensin_receptor_antagonist\", \"casein_kinase_inhibitor\", \"src_inhibitor\", \"androgen_receptor_antagonist\", \"bacterial_dna_gyrase_inhibitor\", \"hsp_inhibitor\", \"apoptosis_stimulant\", \"carbonic_anhydrase_inhibitor\", \"adenosine_receptor_antagonist\", \"opioid_receptor_antagonist\", \"alk_inhibitor\", \"potassium_channel_antagonist\", \"5-alpha_reductase_inhibitor\", \"hiv_inhibitor\", \"tnf_inhibitor\", \"thymidylate_synthase_inhibitor\", \"angiogenesis_inhibitor\", \"cc_chemokine_receptor_antagonist\", \"jak_inhibitor\", \"pkc_inhibitor\", \"protein_synthesis_inhibitor\", \"nrf2_activator\", \"integrin_inhibitor\", \"hdac_inhibitor\", \"aurora_kinase_inhibitor\", \"gaba_receptor_agonist\", \"neuropeptide_receptor_antagonist\", \"acetylcholinesterase_inhibitor\", \"antiprotozoal\", \"cytochrome_p450_inhibitor\", \"bacterial_dna_inhibitor\", \"aromatase_inhibitor\", \"cannabinoid_receptor_agonist\", \"dopamine_receptor_agonist\", \"mtor_inhibitor\", \"chloride_channel_blocker\", \"progesterone_receptor_agonist\", \"atpase_inhibitor\", \"dihydrofolate_reductase_inhibitor\", \"beta_amyloid_inhibitor\", \"ppar_receptor_agonist\", \"prostaglandin_inhibitor\", \"topoisomerase_inhibitor\", \"sigma_receptor_antagonist\", \"pi3k_inhibitor\", \"gaba_receptor_antagonist\", \"vegfr_inhibitor\", \"sigma_receptor_agonist\", \"serotonin_reuptake_inhibitor\", \"estrogen_receptor_agonist\", \"tlr_agonist\", \"antibiotic\", \"acetylcholine_receptor_agonist\", \"bacterial_cell_wall_synthesis_inhibitor\", \"raf_inhibitor\", \"serotonin_receptor_agonist\", \"bacterial_antifolate\", \"histamine_receptor_antagonist\", \"nitric_oxide_donor\", \"phosphodiesterase_inhibitor\", \"sodium_channel_inhibitor\", \"glucocorticoid_receptor_agonist\", \"adrenergic_receptor_agonist\", \"calcium_channel_blocker\", \"hmgcr_inhibitor\", \"kit_inhibitor\", \"flt3_inhibitor\", \"acetylcholine_receptor_antagonist\", \"pdgfr_inhibitor\", \"tubulin_inhibitor\", \"cdk_inhibitor\", \"egfr_inhibitor\", \"glutamate_receptor_antagonist\", \"adrenergic_receptor_antagonist\", \"orexin_receptor_antagonist\", \"serotonin_receptor_antagonist\", \"cyclooxygenase_inhibitor\", \"dna_inhibitor\", \"dopamine_receptor_antagonist\", \"proteasome_inhibitor\", \"nfkb_inhibitor\"], \"yaxis\": \"y\"}],                        {\"barmode\": \"relative\", \"height\": 1000, \"legend\": {\"tracegroupgap\": 0}, \"template\": {\"data\": {\"bar\": [{\"error_x\": {\"color\": \"#2a3f5f\"}, \"error_y\": {\"color\": \"#2a3f5f\"}, \"marker\": {\"line\": {\"color\": \"#E5ECF6\", \"width\": 0.5}}, \"type\": \"bar\"}], \"barpolar\": [{\"marker\": {\"line\": {\"color\": \"#E5ECF6\", \"width\": 0.5}}, \"type\": \"barpolar\"}], \"carpet\": [{\"aaxis\": {\"endlinecolor\": \"#2a3f5f\", \"gridcolor\": \"white\", \"linecolor\": \"white\", \"minorgridcolor\": \"white\", \"startlinecolor\": \"#2a3f5f\"}, \"baxis\": {\"endlinecolor\": \"#2a3f5f\", \"gridcolor\": \"white\", \"linecolor\": \"white\", \"minorgridcolor\": \"white\", \"startlinecolor\": \"#2a3f5f\"}, \"type\": \"carpet\"}], \"choropleth\": [{\"colorbar\": {\"outlinewidth\": 0, \"ticks\": \"\"}, \"type\": \"choropleth\"}], \"contour\": [{\"colorbar\": {\"outlinewidth\": 0, \"ticks\": \"\"}, \"colorscale\": [[0.0, \"#0d0887\"], [0.1111111111111111, \"#46039f\"], [0.2222222222222222, \"#7201a8\"], [0.3333333333333333, \"#9c179e\"], [0.4444444444444444, \"#bd3786\"], [0.5555555555555556, \"#d8576b\"], [0.6666666666666666, \"#ed7953\"], [0.7777777777777778, \"#fb9f3a\"], [0.8888888888888888, \"#fdca26\"], [1.0, \"#f0f921\"]], \"type\": \"contour\"}], \"contourcarpet\": [{\"colorbar\": {\"outlinewidth\": 0, \"ticks\": \"\"}, \"type\": \"contourcarpet\"}], \"heatmap\": [{\"colorbar\": {\"outlinewidth\": 0, \"ticks\": \"\"}, \"colorscale\": [[0.0, \"#0d0887\"], [0.1111111111111111, \"#46039f\"], [0.2222222222222222, \"#7201a8\"], [0.3333333333333333, \"#9c179e\"], [0.4444444444444444, \"#bd3786\"], [0.5555555555555556, \"#d8576b\"], [0.6666666666666666, \"#ed7953\"], [0.7777777777777778, \"#fb9f3a\"], [0.8888888888888888, \"#fdca26\"], [1.0, \"#f0f921\"]], \"type\": \"heatmap\"}], \"heatmapgl\": [{\"colorbar\": {\"outlinewidth\": 0, \"ticks\": \"\"}, \"colorscale\": [[0.0, \"#0d0887\"], [0.1111111111111111, \"#46039f\"], [0.2222222222222222, \"#7201a8\"], [0.3333333333333333, \"#9c179e\"], [0.4444444444444444, \"#bd3786\"], [0.5555555555555556, \"#d8576b\"], [0.6666666666666666, \"#ed7953\"], [0.7777777777777778, \"#fb9f3a\"], [0.8888888888888888, \"#fdca26\"], [1.0, \"#f0f921\"]], \"type\": \"heatmapgl\"}], \"histogram\": [{\"marker\": {\"colorbar\": {\"outlinewidth\": 0, \"ticks\": \"\"}}, \"type\": \"histogram\"}], \"histogram2d\": [{\"colorbar\": {\"outlinewidth\": 0, \"ticks\": \"\"}, \"colorscale\": [[0.0, \"#0d0887\"], [0.1111111111111111, \"#46039f\"], [0.2222222222222222, \"#7201a8\"], [0.3333333333333333, \"#9c179e\"], [0.4444444444444444, \"#bd3786\"], [0.5555555555555556, \"#d8576b\"], [0.6666666666666666, \"#ed7953\"], [0.7777777777777778, \"#fb9f3a\"], [0.8888888888888888, \"#fdca26\"], [1.0, \"#f0f921\"]], \"type\": \"histogram2d\"}], \"histogram2dcontour\": [{\"colorbar\": {\"outlinewidth\": 0, \"ticks\": \"\"}, \"colorscale\": [[0.0, \"#0d0887\"], [0.1111111111111111, \"#46039f\"], [0.2222222222222222, \"#7201a8\"], [0.3333333333333333, \"#9c179e\"], [0.4444444444444444, \"#bd3786\"], [0.5555555555555556, \"#d8576b\"], [0.6666666666666666, \"#ed7953\"], [0.7777777777777778, \"#fb9f3a\"], [0.8888888888888888, \"#fdca26\"], [1.0, \"#f0f921\"]], \"type\": \"histogram2dcontour\"}], \"mesh3d\": [{\"colorbar\": {\"outlinewidth\": 0, \"ticks\": \"\"}, \"type\": \"mesh3d\"}], \"parcoords\": [{\"line\": {\"colorbar\": {\"outlinewidth\": 0, \"ticks\": \"\"}}, \"type\": \"parcoords\"}], \"pie\": [{\"automargin\": true, \"type\": \"pie\"}], \"scatter\": [{\"marker\": {\"colorbar\": {\"outlinewidth\": 0, \"ticks\": \"\"}}, \"type\": \"scatter\"}], \"scatter3d\": [{\"line\": {\"colorbar\": {\"outlinewidth\": 0, \"ticks\": \"\"}}, \"marker\": {\"colorbar\": {\"outlinewidth\": 0, \"ticks\": \"\"}}, \"type\": \"scatter3d\"}], \"scattercarpet\": [{\"marker\": {\"colorbar\": {\"outlinewidth\": 0, \"ticks\": \"\"}}, \"type\": \"scattercarpet\"}], \"scattergeo\": [{\"marker\": {\"colorbar\": {\"outlinewidth\": 0, \"ticks\": \"\"}}, \"type\": \"scattergeo\"}], \"scattergl\": [{\"marker\": {\"colorbar\": {\"outlinewidth\": 0, \"ticks\": \"\"}}, \"type\": \"scattergl\"}], \"scattermapbox\": [{\"marker\": {\"colorbar\": {\"outlinewidth\": 0, \"ticks\": \"\"}}, \"type\": \"scattermapbox\"}], \"scatterpolar\": [{\"marker\": {\"colorbar\": {\"outlinewidth\": 0, \"ticks\": \"\"}}, \"type\": \"scatterpolar\"}], \"scatterpolargl\": [{\"marker\": {\"colorbar\": {\"outlinewidth\": 0, \"ticks\": \"\"}}, \"type\": \"scatterpolargl\"}], \"scatterternary\": [{\"marker\": {\"colorbar\": {\"outlinewidth\": 0, \"ticks\": \"\"}}, \"type\": \"scatterternary\"}], \"surface\": [{\"colorbar\": {\"outlinewidth\": 0, \"ticks\": \"\"}, \"colorscale\": [[0.0, \"#0d0887\"], [0.1111111111111111, \"#46039f\"], [0.2222222222222222, \"#7201a8\"], [0.3333333333333333, \"#9c179e\"], [0.4444444444444444, \"#bd3786\"], [0.5555555555555556, \"#d8576b\"], [0.6666666666666666, \"#ed7953\"], [0.7777777777777778, \"#fb9f3a\"], [0.8888888888888888, \"#fdca26\"], [1.0, \"#f0f921\"]], \"type\": \"surface\"}], \"table\": [{\"cells\": {\"fill\": {\"color\": \"#EBF0F8\"}, \"line\": {\"color\": \"white\"}}, \"header\": {\"fill\": {\"color\": \"#C8D4E3\"}, \"line\": {\"color\": \"white\"}}, \"type\": \"table\"}]}, \"layout\": {\"annotationdefaults\": {\"arrowcolor\": \"#2a3f5f\", \"arrowhead\": 0, \"arrowwidth\": 1}, \"coloraxis\": {\"colorbar\": {\"outlinewidth\": 0, \"ticks\": \"\"}}, \"colorscale\": {\"diverging\": [[0, \"#8e0152\"], [0.1, \"#c51b7d\"], [0.2, \"#de77ae\"], [0.3, \"#f1b6da\"], [0.4, \"#fde0ef\"], [0.5, \"#f7f7f7\"], [0.6, \"#e6f5d0\"], [0.7, \"#b8e186\"], [0.8, \"#7fbc41\"], [0.9, \"#4d9221\"], [1, \"#276419\"]], \"sequential\": [[0.0, \"#0d0887\"], [0.1111111111111111, \"#46039f\"], [0.2222222222222222, \"#7201a8\"], [0.3333333333333333, \"#9c179e\"], [0.4444444444444444, \"#bd3786\"], [0.5555555555555556, \"#d8576b\"], [0.6666666666666666, \"#ed7953\"], [0.7777777777777778, \"#fb9f3a\"], [0.8888888888888888, \"#fdca26\"], [1.0, \"#f0f921\"]], \"sequentialminus\": [[0.0, \"#0d0887\"], [0.1111111111111111, \"#46039f\"], [0.2222222222222222, \"#7201a8\"], [0.3333333333333333, \"#9c179e\"], [0.4444444444444444, \"#bd3786\"], [0.5555555555555556, \"#d8576b\"], [0.6666666666666666, \"#ed7953\"], [0.7777777777777778, \"#fb9f3a\"], [0.8888888888888888, \"#fdca26\"], [1.0, \"#f0f921\"]]}, \"colorway\": [\"#636efa\", \"#EF553B\", \"#00cc96\", \"#ab63fa\", \"#FFA15A\", \"#19d3f3\", \"#FF6692\", \"#B6E880\", \"#FF97FF\", \"#FECB52\"], \"font\": {\"color\": \"#2a3f5f\"}, \"geo\": {\"bgcolor\": \"white\", \"lakecolor\": \"white\", \"landcolor\": \"#E5ECF6\", \"showlakes\": true, \"showland\": true, \"subunitcolor\": \"white\"}, \"hoverlabel\": {\"align\": \"left\"}, \"hovermode\": \"closest\", \"mapbox\": {\"style\": \"light\"}, \"paper_bgcolor\": \"white\", \"plot_bgcolor\": \"#E5ECF6\", \"polar\": {\"angularaxis\": {\"gridcolor\": \"white\", \"linecolor\": \"white\", \"ticks\": \"\"}, \"bgcolor\": \"#E5ECF6\", \"radialaxis\": {\"gridcolor\": \"white\", \"linecolor\": \"white\", \"ticks\": \"\"}}, \"scene\": {\"xaxis\": {\"backgroundcolor\": \"#E5ECF6\", \"gridcolor\": \"white\", \"gridwidth\": 2, \"linecolor\": \"white\", \"showbackground\": true, \"ticks\": \"\", \"zerolinecolor\": \"white\"}, \"yaxis\": {\"backgroundcolor\": \"#E5ECF6\", \"gridcolor\": \"white\", \"gridwidth\": 2, \"linecolor\": \"white\", \"showbackground\": true, \"ticks\": \"\", \"zerolinecolor\": \"white\"}, \"zaxis\": {\"backgroundcolor\": \"#E5ECF6\", \"gridcolor\": \"white\", \"gridwidth\": 2, \"linecolor\": \"white\", \"showbackground\": true, \"ticks\": \"\", \"zerolinecolor\": \"white\"}}, \"shapedefaults\": {\"line\": {\"color\": \"#2a3f5f\"}}, \"ternary\": {\"aaxis\": {\"gridcolor\": \"white\", \"linecolor\": \"white\", \"ticks\": \"\"}, \"baxis\": {\"gridcolor\": \"white\", \"linecolor\": \"white\", \"ticks\": \"\"}, \"bgcolor\": \"#E5ECF6\", \"caxis\": {\"gridcolor\": \"white\", \"linecolor\": \"white\", \"ticks\": \"\"}}, \"title\": {\"x\": 0.05}, \"xaxis\": {\"automargin\": true, \"gridcolor\": \"white\", \"linecolor\": \"white\", \"ticks\": \"\", \"title\": {\"standoff\": 15}, \"zerolinecolor\": \"white\", \"zerolinewidth\": 2}, \"yaxis\": {\"automargin\": true, \"gridcolor\": \"white\", \"linecolor\": \"white\", \"ticks\": \"\", \"title\": {\"standoff\": 15}, \"zerolinecolor\": \"white\", \"zerolinewidth\": 2}}}, \"title\": {\"text\": \"Label counts AFTER\"}, \"width\": 800, \"xaxis\": {\"anchor\": \"y\", \"domain\": [0.0, 1.0], \"title\": {\"text\": \"nonzero_records\"}}, \"yaxis\": {\"anchor\": \"x\", \"domain\": [0.0, 1.0], \"title\": {\"text\": \"column\"}}},                        {\"responsive\": true}                    ).then(function(){\n",
       "                            \n",
       "var gd = document.getElementById('fd3f0e1a-acd1-4a89-bdf9-2012ae85b2d3');\n",
       "var x = new MutationObserver(function (mutations, observer) {{\n",
       "        var display = window.getComputedStyle(gd).display;\n",
       "        if (!display || display === 'none') {{\n",
       "            console.log([gd, 'removed!']);\n",
       "            Plotly.purge(gd);\n",
       "            observer.disconnect();\n",
       "        }}\n",
       "}});\n",
       "\n",
       "// Listen for the removal of the full notebook cells\n",
       "var notebookContainer = gd.closest('#notebook-container');\n",
       "if (notebookContainer) {{\n",
       "    x.observe(notebookContainer, {childList: true});\n",
       "}}\n",
       "\n",
       "// Listen for the clearing of the current output cell\n",
       "var outputEl = gd.closest('.output');\n",
       "if (outputEl) {{\n",
       "    x.observe(outputEl, {childList: true});\n",
       "}}\n",
       "\n",
       "                        })                };                });            </script>        </div>"
      ]
     },
     "metadata": {},
     "output_type": "display_data"
    }
   ],
   "source": [
    "y_after = y_augmented.sum(axis=0).sort_values().reset_index()\n",
    "y_after.columns = ['column', 'nonzero_records']\n",
    "fig = px.bar(\n",
    "    y_after, \n",
    "    x='nonzero_records', \n",
    "    y='column', \n",
    "    orientation='h', \n",
    "    title='Label counts AFTER', \n",
    "    width=800,\n",
    "    height=1000\n",
    ")\n",
    "\n",
    "fig.show()"
   ]
  },
  {
   "cell_type": "code",
   "execution_count": 24,
   "metadata": {},
   "outputs": [
    {
     "name": "stdout",
     "output_type": "stream",
     "text": [
      "Median label counts before augmentation:  38.5\n",
      "Median label counts after augmentation:  70.5\n"
     ]
    }
   ],
   "source": [
    "print(\"Median label counts before augmentation: \", y_before['nonzero_records'].median())\n",
    "print(\"Median label counts after augmentation: \", y_after['nonzero_records'].median())"
   ]
  },
  {
   "cell_type": "markdown",
   "metadata": {},
   "source": [
    "### Assessment\n",
    "\n",
    "Right now I'm just oversampling by 1000 samples. (23,000 -> 24,000 data points) The median label counts jumps from 38.5 -> ~70.\n",
    "\n",
    "This seems to improve data imbalance between the labels themselves, however it does not significantly affect overall labeled/non-labeled data imbalance (i.e., # zero-label samples vs. # nonzero-label samples)\n",
    "\n",
    "### Improvements\n",
    "\n",
    "* Can copy more visualizations from [this notebook](https://www.kaggle.com/isaienkov/mechanisms-of-action-moa-prediction-eda) (section 5)\n",
    "* Should we oversample by more than 1000 data points?\n",
    "* Is there anything we can (or should) do to assess overal labeled/non-labeled data imbalance?"
   ]
  },
  {
   "cell_type": "code",
   "execution_count": null,
   "metadata": {},
   "outputs": [],
   "source": []
  }
 ],
 "metadata": {
  "kernelspec": {
   "display_name": "Python 3",
   "language": "python",
   "name": "python3"
  },
  "language_info": {
   "codemirror_mode": {
    "name": "ipython",
    "version": 3
   },
   "file_extension": ".py",
   "mimetype": "text/x-python",
   "name": "python",
   "nbconvert_exporter": "python",
   "pygments_lexer": "ipython3",
   "version": "3.7.8"
  }
 },
 "nbformat": 4,
 "nbformat_minor": 4
}
